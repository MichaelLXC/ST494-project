{
 "cells": [
  {
   "cell_type": "code",
   "execution_count": 2,
   "id": "e775bfef-e8bd-494b-b091-519d97e2b918",
   "metadata": {},
   "outputs": [
    {
     "name": "stderr",
     "output_type": "stream",
     "text": [
      "Warning message in system(\"timedatectl\", intern = TRUE):\n",
      "“running command 'timedatectl' had status 1”\n",
      "── \u001b[1mAttaching packages\u001b[22m ─────────────────────────────────────── tidyverse 1.3.1 ──\n",
      "\n",
      "\u001b[32m✔\u001b[39m \u001b[34mggplot2\u001b[39m 3.3.5     \u001b[32m✔\u001b[39m \u001b[34mpurrr  \u001b[39m 0.3.4\n",
      "\u001b[32m✔\u001b[39m \u001b[34mtibble \u001b[39m 3.1.6     \u001b[32m✔\u001b[39m \u001b[34mdplyr  \u001b[39m 1.0.7\n",
      "\u001b[32m✔\u001b[39m \u001b[34mtidyr  \u001b[39m 1.2.0     \u001b[32m✔\u001b[39m \u001b[34mstringr\u001b[39m 1.4.0\n",
      "\u001b[32m✔\u001b[39m \u001b[34mreadr  \u001b[39m 2.1.2     \u001b[32m✔\u001b[39m \u001b[34mforcats\u001b[39m 0.5.1\n",
      "\n",
      "── \u001b[1mConflicts\u001b[22m ────────────────────────────────────────── tidyverse_conflicts() ──\n",
      "\u001b[31m✖\u001b[39m \u001b[34mdplyr\u001b[39m::\u001b[32mfilter()\u001b[39m masks \u001b[34mstats\u001b[39m::filter()\n",
      "\u001b[31m✖\u001b[39m \u001b[34mdplyr\u001b[39m::\u001b[32mlag()\u001b[39m    masks \u001b[34mstats\u001b[39m::lag()\n",
      "\n",
      "\n",
      "Attaching package: ‘MASS’\n",
      "\n",
      "\n",
      "The following object is masked from ‘package:ISLR2’:\n",
      "\n",
      "    Boston\n",
      "\n",
      "\n",
      "The following object is masked from ‘package:dplyr’:\n",
      "\n",
      "    select\n",
      "\n",
      "\n",
      "Loading required package: lattice\n",
      "\n",
      "\n",
      "Attaching package: ‘caret’\n",
      "\n",
      "\n",
      "The following object is masked from ‘package:purrr’:\n",
      "\n",
      "    lift\n",
      "\n",
      "\n",
      "Registered S3 method overwritten by 'GGally':\n",
      "  method from   \n",
      "  +.gg   ggplot2\n",
      "\n",
      "Loading required package: pROC\n",
      "\n",
      "Type 'citation(\"pROC\")' for a citation.\n",
      "\n",
      "\n",
      "Attaching package: ‘pROC’\n",
      "\n",
      "\n",
      "The following objects are masked from ‘package:stats’:\n",
      "\n",
      "    cov, smooth, var\n",
      "\n",
      "\n",
      "\n",
      "Attaching package: ‘neuralnet’\n",
      "\n",
      "\n",
      "The following object is masked from ‘package:dplyr’:\n",
      "\n",
      "    compute\n",
      "\n",
      "\n"
     ]
    }
   ],
   "source": [
    "library('tidyverse')\n",
    "library('ISLR2')\n",
    "library('MASS')\n",
    "library('caret')\n",
    "library('GGally')\n",
    "library('pROC')\n",
    "library('e1071')\n",
    "library('neuralnet')\n",
    "library('leaps')"
   ]
  },
  {
   "cell_type": "code",
   "execution_count": 3,
   "id": "93a819e4-7e03-4878-9667-402812ac0ddc",
   "metadata": {},
   "outputs": [
    {
     "data": {
      "text/html": [
       "<style>\n",
       ".list-inline {list-style: none; margin:0; padding: 0}\n",
       ".list-inline>li {display: inline-block}\n",
       ".list-inline>li:not(:last-child)::after {content: \"\\00b7\"; padding: 0 .5ex}\n",
       "</style>\n",
       "<ol class=list-inline><li>297</li><li>14</li></ol>\n"
      ],
      "text/latex": [
       "\\begin{enumerate*}\n",
       "\\item 297\n",
       "\\item 14\n",
       "\\end{enumerate*}\n"
      ],
      "text/markdown": [
       "1. 297\n",
       "2. 14\n",
       "\n",
       "\n"
      ],
      "text/plain": [
       "[1] 297  14"
      ]
     },
     "metadata": {},
     "output_type": "display_data"
    },
    {
     "data": {
      "text/html": [
       "<table class=\"dataframe\">\n",
       "<caption>A data.frame: 6 × 14</caption>\n",
       "<thead>\n",
       "\t<tr><th></th><th scope=col>age</th><th scope=col>sex</th><th scope=col>cp</th><th scope=col>trestbps</th><th scope=col>chol</th><th scope=col>fbs</th><th scope=col>restecg</th><th scope=col>thalach</th><th scope=col>exang</th><th scope=col>oldpeak</th><th scope=col>slope</th><th scope=col>ca</th><th scope=col>thal</th><th scope=col>condition</th></tr>\n",
       "\t<tr><th></th><th scope=col>&lt;int&gt;</th><th scope=col>&lt;int&gt;</th><th scope=col>&lt;int&gt;</th><th scope=col>&lt;int&gt;</th><th scope=col>&lt;int&gt;</th><th scope=col>&lt;int&gt;</th><th scope=col>&lt;int&gt;</th><th scope=col>&lt;int&gt;</th><th scope=col>&lt;int&gt;</th><th scope=col>&lt;dbl&gt;</th><th scope=col>&lt;int&gt;</th><th scope=col>&lt;int&gt;</th><th scope=col>&lt;int&gt;</th><th scope=col>&lt;int&gt;</th></tr>\n",
       "</thead>\n",
       "<tbody>\n",
       "\t<tr><th scope=row>1</th><td>69</td><td>1</td><td>0</td><td>160</td><td>234</td><td>1</td><td>2</td><td>131</td><td>0</td><td>0.1</td><td>1</td><td>1</td><td>0</td><td>0</td></tr>\n",
       "\t<tr><th scope=row>2</th><td>69</td><td>0</td><td>0</td><td>140</td><td>239</td><td>0</td><td>0</td><td>151</td><td>0</td><td>1.8</td><td>0</td><td>2</td><td>0</td><td>0</td></tr>\n",
       "\t<tr><th scope=row>3</th><td>66</td><td>0</td><td>0</td><td>150</td><td>226</td><td>0</td><td>0</td><td>114</td><td>0</td><td>2.6</td><td>2</td><td>0</td><td>0</td><td>0</td></tr>\n",
       "\t<tr><th scope=row>4</th><td>65</td><td>1</td><td>0</td><td>138</td><td>282</td><td>1</td><td>2</td><td>174</td><td>0</td><td>1.4</td><td>1</td><td>1</td><td>0</td><td>1</td></tr>\n",
       "\t<tr><th scope=row>5</th><td>64</td><td>1</td><td>0</td><td>110</td><td>211</td><td>0</td><td>2</td><td>144</td><td>1</td><td>1.8</td><td>1</td><td>0</td><td>0</td><td>0</td></tr>\n",
       "\t<tr><th scope=row>6</th><td>64</td><td>1</td><td>0</td><td>170</td><td>227</td><td>0</td><td>2</td><td>155</td><td>0</td><td>0.6</td><td>1</td><td>0</td><td>2</td><td>0</td></tr>\n",
       "</tbody>\n",
       "</table>\n"
      ],
      "text/latex": [
       "A data.frame: 6 × 14\n",
       "\\begin{tabular}{r|llllllllllllll}\n",
       "  & age & sex & cp & trestbps & chol & fbs & restecg & thalach & exang & oldpeak & slope & ca & thal & condition\\\\\n",
       "  & <int> & <int> & <int> & <int> & <int> & <int> & <int> & <int> & <int> & <dbl> & <int> & <int> & <int> & <int>\\\\\n",
       "\\hline\n",
       "\t1 & 69 & 1 & 0 & 160 & 234 & 1 & 2 & 131 & 0 & 0.1 & 1 & 1 & 0 & 0\\\\\n",
       "\t2 & 69 & 0 & 0 & 140 & 239 & 0 & 0 & 151 & 0 & 1.8 & 0 & 2 & 0 & 0\\\\\n",
       "\t3 & 66 & 0 & 0 & 150 & 226 & 0 & 0 & 114 & 0 & 2.6 & 2 & 0 & 0 & 0\\\\\n",
       "\t4 & 65 & 1 & 0 & 138 & 282 & 1 & 2 & 174 & 0 & 1.4 & 1 & 1 & 0 & 1\\\\\n",
       "\t5 & 64 & 1 & 0 & 110 & 211 & 0 & 2 & 144 & 1 & 1.8 & 1 & 0 & 0 & 0\\\\\n",
       "\t6 & 64 & 1 & 0 & 170 & 227 & 0 & 2 & 155 & 0 & 0.6 & 1 & 0 & 2 & 0\\\\\n",
       "\\end{tabular}\n"
      ],
      "text/markdown": [
       "\n",
       "A data.frame: 6 × 14\n",
       "\n",
       "| <!--/--> | age &lt;int&gt; | sex &lt;int&gt; | cp &lt;int&gt; | trestbps &lt;int&gt; | chol &lt;int&gt; | fbs &lt;int&gt; | restecg &lt;int&gt; | thalach &lt;int&gt; | exang &lt;int&gt; | oldpeak &lt;dbl&gt; | slope &lt;int&gt; | ca &lt;int&gt; | thal &lt;int&gt; | condition &lt;int&gt; |\n",
       "|---|---|---|---|---|---|---|---|---|---|---|---|---|---|---|\n",
       "| 1 | 69 | 1 | 0 | 160 | 234 | 1 | 2 | 131 | 0 | 0.1 | 1 | 1 | 0 | 0 |\n",
       "| 2 | 69 | 0 | 0 | 140 | 239 | 0 | 0 | 151 | 0 | 1.8 | 0 | 2 | 0 | 0 |\n",
       "| 3 | 66 | 0 | 0 | 150 | 226 | 0 | 0 | 114 | 0 | 2.6 | 2 | 0 | 0 | 0 |\n",
       "| 4 | 65 | 1 | 0 | 138 | 282 | 1 | 2 | 174 | 0 | 1.4 | 1 | 1 | 0 | 1 |\n",
       "| 5 | 64 | 1 | 0 | 110 | 211 | 0 | 2 | 144 | 1 | 1.8 | 1 | 0 | 0 | 0 |\n",
       "| 6 | 64 | 1 | 0 | 170 | 227 | 0 | 2 | 155 | 0 | 0.6 | 1 | 0 | 2 | 0 |\n",
       "\n"
      ],
      "text/plain": [
       "  age sex cp trestbps chol fbs restecg thalach exang oldpeak slope ca thal\n",
       "1 69  1   0  160      234  1   2       131     0     0.1     1     1  0   \n",
       "2 69  0   0  140      239  0   0       151     0     1.8     0     2  0   \n",
       "3 66  0   0  150      226  0   0       114     0     2.6     2     0  0   \n",
       "4 65  1   0  138      282  1   2       174     0     1.4     1     1  0   \n",
       "5 64  1   0  110      211  0   2       144     1     1.8     1     0  0   \n",
       "6 64  1   0  170      227  0   2       155     0     0.6     1     0  2   \n",
       "  condition\n",
       "1 0        \n",
       "2 0        \n",
       "3 0        \n",
       "4 1        \n",
       "5 0        \n",
       "6 0        "
      ]
     },
     "metadata": {},
     "output_type": "display_data"
    },
    {
     "data": {
      "text/html": [
       "0"
      ],
      "text/latex": [
       "0"
      ],
      "text/markdown": [
       "0"
      ],
      "text/plain": [
       "[1] 0"
      ]
     },
     "metadata": {},
     "output_type": "display_data"
    }
   ],
   "source": [
    "heart_o <- read.csv('heart_cleveland_upload.csv')\n",
    "dim(heart_o)\n",
    "head(heart_o)\n",
    "sum(is.na(heart_o))"
   ]
  },
  {
   "cell_type": "markdown",
   "id": "85b457bf-8697-45fb-aa5f-bf90dfb9459f",
   "metadata": {
    "tags": []
   },
   "source": [
    "age: age in years\n",
    "sex: sex (1 = male; 0 = female)\n",
    "cp: chest pain type\n",
    "-- Value 0: typical angina\n",
    "-- Value 1: atypical angina\n",
    "-- Value 2: non-anginal pain\n",
    "-- Value 3: asymptomatic\n",
    "trestbps: resting blood pressure (in mm Hg on admission to the hospital)\n",
    "chol: serum cholestoral in mg/dl\n",
    "fbs: (fasting blood sugar > 120 mg/dl) (1 = true; 0 = false)\n",
    "restecg: resting electrocardiographic results\n",
    "-- Value 0: normal\n",
    "-- Value 1: having ST-T wave abnormality (T wave inversions and/or ST elevation or depression of > 0.05 mV)\n",
    "-- Value 2: showing probable or definite left ventricular hypertrophy by Estes' criteria\n",
    "thalach: maximum heart rate achieved\n",
    "exang: exercise induced angina (1 = yes; 0 = no)\n",
    "oldpeak = ST depression induced by exercise relative to rest\n",
    "slope: the slope of the peak exercise ST segment\n",
    "-- Value 0: upsloping\n",
    "-- Value 1: flat\n",
    "-- Value 2: downsloping\n",
    "ca: number of major vessels (0-3) colored by flourosopy\n",
    "thal: 0 = normal; 1 = fixed defect; 2 = reversable defect\n",
    "and the label\n",
    "condition: 0 = no disease, 1 = disease"
   ]
  },
  {
   "cell_type": "code",
   "execution_count": 4,
   "id": "19bb562e-a30c-44a2-bb2c-16b30eb6f1e5",
   "metadata": {},
   "outputs": [
    {
     "data": {
      "text/html": [
       "<table class=\"dataframe\">\n",
       "<caption>A data.frame: 6 × 14</caption>\n",
       "<thead>\n",
       "\t<tr><th></th><th scope=col>age</th><th scope=col>sex</th><th scope=col>cp</th><th scope=col>trestbps</th><th scope=col>chol</th><th scope=col>fbs</th><th scope=col>restecg</th><th scope=col>thalach</th><th scope=col>exang</th><th scope=col>oldpeak</th><th scope=col>slope</th><th scope=col>ca</th><th scope=col>thal</th><th scope=col>condition</th></tr>\n",
       "\t<tr><th></th><th scope=col>&lt;int&gt;</th><th scope=col>&lt;fct&gt;</th><th scope=col>&lt;int&gt;</th><th scope=col>&lt;int&gt;</th><th scope=col>&lt;int&gt;</th><th scope=col>&lt;fct&gt;</th><th scope=col>&lt;fct&gt;</th><th scope=col>&lt;int&gt;</th><th scope=col>&lt;fct&gt;</th><th scope=col>&lt;dbl&gt;</th><th scope=col>&lt;fct&gt;</th><th scope=col>&lt;fct&gt;</th><th scope=col>&lt;fct&gt;</th><th scope=col>&lt;fct&gt;</th></tr>\n",
       "</thead>\n",
       "<tbody>\n",
       "\t<tr><th scope=row>1</th><td>69</td><td>1</td><td>0</td><td>160</td><td>234</td><td>1</td><td>2</td><td>131</td><td>0</td><td>0.1</td><td>1</td><td>1</td><td>0</td><td>0</td></tr>\n",
       "\t<tr><th scope=row>2</th><td>69</td><td>0</td><td>0</td><td>140</td><td>239</td><td>0</td><td>0</td><td>151</td><td>0</td><td>1.8</td><td>0</td><td>2</td><td>0</td><td>0</td></tr>\n",
       "\t<tr><th scope=row>3</th><td>66</td><td>0</td><td>0</td><td>150</td><td>226</td><td>0</td><td>0</td><td>114</td><td>0</td><td>2.6</td><td>2</td><td>0</td><td>0</td><td>0</td></tr>\n",
       "\t<tr><th scope=row>4</th><td>65</td><td>1</td><td>0</td><td>138</td><td>282</td><td>1</td><td>2</td><td>174</td><td>0</td><td>1.4</td><td>1</td><td>1</td><td>0</td><td>1</td></tr>\n",
       "\t<tr><th scope=row>5</th><td>64</td><td>1</td><td>0</td><td>110</td><td>211</td><td>0</td><td>2</td><td>144</td><td>1</td><td>1.8</td><td>1</td><td>0</td><td>0</td><td>0</td></tr>\n",
       "\t<tr><th scope=row>6</th><td>64</td><td>1</td><td>0</td><td>170</td><td>227</td><td>0</td><td>2</td><td>155</td><td>0</td><td>0.6</td><td>1</td><td>0</td><td>2</td><td>0</td></tr>\n",
       "</tbody>\n",
       "</table>\n"
      ],
      "text/latex": [
       "A data.frame: 6 × 14\n",
       "\\begin{tabular}{r|llllllllllllll}\n",
       "  & age & sex & cp & trestbps & chol & fbs & restecg & thalach & exang & oldpeak & slope & ca & thal & condition\\\\\n",
       "  & <int> & <fct> & <int> & <int> & <int> & <fct> & <fct> & <int> & <fct> & <dbl> & <fct> & <fct> & <fct> & <fct>\\\\\n",
       "\\hline\n",
       "\t1 & 69 & 1 & 0 & 160 & 234 & 1 & 2 & 131 & 0 & 0.1 & 1 & 1 & 0 & 0\\\\\n",
       "\t2 & 69 & 0 & 0 & 140 & 239 & 0 & 0 & 151 & 0 & 1.8 & 0 & 2 & 0 & 0\\\\\n",
       "\t3 & 66 & 0 & 0 & 150 & 226 & 0 & 0 & 114 & 0 & 2.6 & 2 & 0 & 0 & 0\\\\\n",
       "\t4 & 65 & 1 & 0 & 138 & 282 & 1 & 2 & 174 & 0 & 1.4 & 1 & 1 & 0 & 1\\\\\n",
       "\t5 & 64 & 1 & 0 & 110 & 211 & 0 & 2 & 144 & 1 & 1.8 & 1 & 0 & 0 & 0\\\\\n",
       "\t6 & 64 & 1 & 0 & 170 & 227 & 0 & 2 & 155 & 0 & 0.6 & 1 & 0 & 2 & 0\\\\\n",
       "\\end{tabular}\n"
      ],
      "text/markdown": [
       "\n",
       "A data.frame: 6 × 14\n",
       "\n",
       "| <!--/--> | age &lt;int&gt; | sex &lt;fct&gt; | cp &lt;int&gt; | trestbps &lt;int&gt; | chol &lt;int&gt; | fbs &lt;fct&gt; | restecg &lt;fct&gt; | thalach &lt;int&gt; | exang &lt;fct&gt; | oldpeak &lt;dbl&gt; | slope &lt;fct&gt; | ca &lt;fct&gt; | thal &lt;fct&gt; | condition &lt;fct&gt; |\n",
       "|---|---|---|---|---|---|---|---|---|---|---|---|---|---|---|\n",
       "| 1 | 69 | 1 | 0 | 160 | 234 | 1 | 2 | 131 | 0 | 0.1 | 1 | 1 | 0 | 0 |\n",
       "| 2 | 69 | 0 | 0 | 140 | 239 | 0 | 0 | 151 | 0 | 1.8 | 0 | 2 | 0 | 0 |\n",
       "| 3 | 66 | 0 | 0 | 150 | 226 | 0 | 0 | 114 | 0 | 2.6 | 2 | 0 | 0 | 0 |\n",
       "| 4 | 65 | 1 | 0 | 138 | 282 | 1 | 2 | 174 | 0 | 1.4 | 1 | 1 | 0 | 1 |\n",
       "| 5 | 64 | 1 | 0 | 110 | 211 | 0 | 2 | 144 | 1 | 1.8 | 1 | 0 | 0 | 0 |\n",
       "| 6 | 64 | 1 | 0 | 170 | 227 | 0 | 2 | 155 | 0 | 0.6 | 1 | 0 | 2 | 0 |\n",
       "\n"
      ],
      "text/plain": [
       "  age sex cp trestbps chol fbs restecg thalach exang oldpeak slope ca thal\n",
       "1 69  1   0  160      234  1   2       131     0     0.1     1     1  0   \n",
       "2 69  0   0  140      239  0   0       151     0     1.8     0     2  0   \n",
       "3 66  0   0  150      226  0   0       114     0     2.6     2     0  0   \n",
       "4 65  1   0  138      282  1   2       174     0     1.4     1     1  0   \n",
       "5 64  1   0  110      211  0   2       144     1     1.8     1     0  0   \n",
       "6 64  1   0  170      227  0   2       155     0     0.6     1     0  2   \n",
       "  condition\n",
       "1 0        \n",
       "2 0        \n",
       "3 0        \n",
       "4 1        \n",
       "5 0        \n",
       "6 0        "
      ]
     },
     "metadata": {},
     "output_type": "display_data"
    }
   ],
   "source": [
    "heart_o$sex <- as.factor(heart_o$sex)\n",
    "#heart_o$cp <- as.factor(heart_o$cp)\n",
    "heart_o$fbs <- as.factor(heart_o$fbs)\n",
    "heart_o$restecg <- as.factor(heart_o$restecg)\n",
    "heart_o$exang <- as.factor(heart_o$exang)\n",
    "heart_o$slope <- as.factor(heart_o$slope)\n",
    "heart_o$thal <- as.factor(heart_o$thal)\n",
    "heart_o$ca <- as.factor(heart_o$ca)\n",
    "heart_o$condition <- as.factor(heart_o$condition) #target variable\n",
    "head(heart_o)"
   ]
  },
  {
   "cell_type": "code",
   "execution_count": 5,
   "id": "c4577c3c-1e30-4307-857e-d309496d3d68",
   "metadata": {},
   "outputs": [
    {
     "data": {
      "text/plain": [
       "      age       sex     cp         trestbps          chol       fbs     restecg\n",
       " Min.   :29.0   0: 95   0: 72   Min.   : 94.0   Min.   :126.0   0:253   0:147  \n",
       " 1st Qu.:48.0   1:201   1:224   1st Qu.:120.0   1st Qu.:211.0   1: 43   1:149  \n",
       " Median :56.0                   Median :130.0   Median :242.5                  \n",
       " Mean   :54.5                   Mean   :131.8   Mean   :246.3                  \n",
       " 3rd Qu.:61.0                   3rd Qu.:140.0   3rd Qu.:275.2                  \n",
       " Max.   :77.0                   Max.   :200.0   Max.   :417.0                  \n",
       "    thalach      exang      oldpeak      slope   ca      thal    condition\n",
       " Min.   : 71.0   0:199   Min.   :0.000   0:139   0:173   0:164   0:159    \n",
       " 1st Qu.:133.0   1: 97   1st Qu.:0.000   1:136   1: 65   1: 18   1:137    \n",
       " Median :152.5           Median :0.800   2: 21   2: 38   2:114            \n",
       " Mean   :149.6           Mean   :1.054           3: 20                    \n",
       " 3rd Qu.:166.0           3rd Qu.:1.650                                    \n",
       " Max.   :202.0           Max.   :6.200                                    "
      ]
     },
     "metadata": {},
     "output_type": "display_data"
    }
   ],
   "source": [
    "heart <- heart_o\n",
    "heart <- heart%>%\n",
    "        mutate(restecg = ifelse(restecg==0,0,1), restecg=factor(restecg))%>% #only 4 records, combine\n",
    "        mutate(cp = ifelse(cp < 2,0,1), cp = factor(cp))\n",
    "heart <- subset(heart, chol < 500)\n",
    "summary(heart)"
   ]
  },
  {
   "cell_type": "code",
   "execution_count": 6,
   "id": "36914937-5e2c-41f1-9aa2-a93344473e19",
   "metadata": {},
   "outputs": [],
   "source": [
    "set.seed(999)\n",
    "validation <- sample_frac(heart, 0.2) #leave for final validation\n",
    "validation_index <- as.numeric(rownames(validation))\n",
    "train <- heart[-validation_index,]\n",
    "\n",
    "tr <- trainControl(method = \"repeatedcv\", number = 10, repeats = 3)"
   ]
  },
  {
   "cell_type": "code",
   "execution_count": 7,
   "id": "f22e18ab-6a64-4a00-a3e7-01ad6d05b6bc",
   "metadata": {},
   "outputs": [
    {
     "data": {
      "text/plain": [
       "\n",
       "Call:\n",
       "glm(formula = condition ~ ., family = binomial, data = train)\n",
       "\n",
       "Deviance Residuals: \n",
       "     Min        1Q    Median        3Q       Max  \n",
       "-2.79545  -0.42651   0.04827   0.36087   2.65444  \n",
       "\n",
       "Coefficients:\n",
       "              Estimate Std. Error z value Pr(>|z|)    \n",
       "(Intercept) -1.816e+01  1.009e+03  -0.018 0.985647    \n",
       "age         -2.938e-02  2.834e-02  -1.037 0.299925    \n",
       "sex1         1.246e+00  5.871e-01   2.123 0.033771 *  \n",
       "cp1          1.516e+01  1.009e+03   0.015 0.988014    \n",
       "trestbps     3.156e-02  1.444e-02   2.186 0.028814 *  \n",
       "chol         3.894e-03  4.902e-03   0.794 0.426968    \n",
       "fbs1        -1.167e+00  6.383e-01  -1.828 0.067527 .  \n",
       "restecg1     6.396e-01  4.414e-01   1.449 0.147355    \n",
       "thalach     -2.801e-02  1.326e-02  -2.112 0.034653 *  \n",
       "exang1       1.320e+00  4.671e-01   2.826 0.004718 ** \n",
       "oldpeak      3.811e-01  2.625e-01   1.452 0.146616    \n",
       "slope1       6.221e-01  5.443e-01   1.143 0.253104    \n",
       "slope2       1.696e-01  1.014e+00   0.167 0.867234    \n",
       "ca1          1.799e+00  5.484e-01   3.280 0.001038 ** \n",
       "ca2          3.461e+00  9.443e-01   3.665 0.000247 ***\n",
       "ca3          2.211e+00  9.467e-01   2.336 0.019501 *  \n",
       "thal1        5.393e-01  9.024e-01   0.598 0.550095    \n",
       "thal2        1.576e+00  4.865e-01   3.240 0.001197 ** \n",
       "---\n",
       "Signif. codes:  0 ‘***’ 0.001 ‘**’ 0.01 ‘*’ 0.05 ‘.’ 0.1 ‘ ’ 1\n",
       "\n",
       "(Dispersion parameter for binomial family taken to be 1)\n",
       "\n",
       "    Null deviance: 328.45  on 236  degrees of freedom\n",
       "Residual deviance: 144.75  on 219  degrees of freedom\n",
       "AIC: 180.75\n",
       "\n",
       "Number of Fisher Scoring iterations: 16\n"
      ]
     },
     "metadata": {},
     "output_type": "display_data"
    }
   ],
   "source": [
    "fit.lr <- glm(condition ~., data = train, family=binomial)\n",
    "summary(fit.lr)"
   ]
  },
  {
   "cell_type": "code",
   "execution_count": 14,
   "id": "9545d6b6-2f55-481e-8386-621be9a8a8ed",
   "metadata": {},
   "outputs": [
    {
     "data": {
      "text/plain": [
       "Subset selection object\n",
       "Call: regsubsets.formula(condition ~ ., data = train, nvmax = 17)\n",
       "17 Variables  (and intercept)\n",
       "         Forced in Forced out\n",
       "age          FALSE      FALSE\n",
       "sex1         FALSE      FALSE\n",
       "cp1          FALSE      FALSE\n",
       "trestbps     FALSE      FALSE\n",
       "chol         FALSE      FALSE\n",
       "fbs1         FALSE      FALSE\n",
       "restecg1     FALSE      FALSE\n",
       "thalach      FALSE      FALSE\n",
       "exang1       FALSE      FALSE\n",
       "oldpeak      FALSE      FALSE\n",
       "slope1       FALSE      FALSE\n",
       "slope2       FALSE      FALSE\n",
       "ca1          FALSE      FALSE\n",
       "ca2          FALSE      FALSE\n",
       "ca3          FALSE      FALSE\n",
       "thal1        FALSE      FALSE\n",
       "thal2        FALSE      FALSE\n",
       "1 subsets of each size up to 17\n",
       "Selection Algorithm: exhaustive\n",
       "          age sex1 cp1 trestbps chol fbs1 restecg1 thalach exang1 oldpeak\n",
       "1  ( 1 )  \" \" \" \"  \" \" \" \"      \" \"  \" \"  \" \"      \" \"     \" \"    \" \"    \n",
       "2  ( 1 )  \" \" \" \"  \" \" \" \"      \" \"  \" \"  \" \"      \"*\"     \" \"    \" \"    \n",
       "3  ( 1 )  \" \" \" \"  \" \" \" \"      \" \"  \" \"  \" \"      \"*\"     \" \"    \"*\"    \n",
       "4  ( 1 )  \" \" \" \"  \" \" \" \"      \" \"  \" \"  \" \"      \"*\"     \"*\"    \"*\"    \n",
       "5  ( 1 )  \" \" \" \"  \" \" \" \"      \" \"  \" \"  \" \"      \"*\"     \"*\"    \"*\"    \n",
       "6  ( 1 )  \" \" \" \"  \" \" \" \"      \" \"  \" \"  \" \"      \" \"     \"*\"    \"*\"    \n",
       "7  ( 1 )  \" \" \" \"  \" \" \" \"      \" \"  \" \"  \" \"      \"*\"     \"*\"    \"*\"    \n",
       "8  ( 1 )  \" \" \" \"  \" \" \" \"      \" \"  \" \"  \"*\"      \"*\"     \"*\"    \"*\"    \n",
       "9  ( 1 )  \" \" \"*\"  \" \" \" \"      \" \"  \" \"  \"*\"      \"*\"     \"*\"    \"*\"    \n",
       "10  ( 1 ) \" \" \"*\"  \" \" \" \"      \" \"  \" \"  \"*\"      \"*\"     \"*\"    \"*\"    \n",
       "11  ( 1 ) \" \" \"*\"  \" \" \"*\"      \" \"  \" \"  \"*\"      \"*\"     \"*\"    \"*\"    \n",
       "12  ( 1 ) \" \" \"*\"  \" \" \"*\"      \" \"  \"*\"  \"*\"      \"*\"     \"*\"    \"*\"    \n",
       "13  ( 1 ) \" \" \"*\"  \" \" \"*\"      \" \"  \"*\"  \"*\"      \"*\"     \"*\"    \"*\"    \n",
       "14  ( 1 ) \" \" \"*\"  \"*\" \"*\"      \" \"  \"*\"  \"*\"      \"*\"     \"*\"    \"*\"    \n",
       "15  ( 1 ) \"*\" \"*\"  \"*\" \"*\"      \" \"  \"*\"  \"*\"      \"*\"     \"*\"    \"*\"    \n",
       "16  ( 1 ) \"*\" \"*\"  \"*\" \"*\"      \"*\"  \"*\"  \"*\"      \"*\"     \"*\"    \"*\"    \n",
       "17  ( 1 ) \"*\" \"*\"  \"*\" \"*\"      \"*\"  \"*\"  \"*\"      \"*\"     \"*\"    \"*\"    \n",
       "          slope1 slope2 ca1 ca2 ca3 thal1 thal2\n",
       "1  ( 1 )  \" \"    \" \"    \" \" \" \" \" \" \" \"   \"*\"  \n",
       "2  ( 1 )  \" \"    \" \"    \" \" \" \" \" \" \" \"   \"*\"  \n",
       "3  ( 1 )  \" \"    \" \"    \" \" \" \" \" \" \" \"   \"*\"  \n",
       "4  ( 1 )  \" \"    \" \"    \" \" \" \" \" \" \" \"   \"*\"  \n",
       "5  ( 1 )  \" \"    \" \"    \" \" \"*\" \" \" \" \"   \"*\"  \n",
       "6  ( 1 )  \" \"    \" \"    \"*\" \"*\" \"*\" \" \"   \"*\"  \n",
       "7  ( 1 )  \" \"    \" \"    \"*\" \"*\" \"*\" \" \"   \"*\"  \n",
       "8  ( 1 )  \" \"    \" \"    \"*\" \"*\" \"*\" \" \"   \"*\"  \n",
       "9  ( 1 )  \" \"    \" \"    \"*\" \"*\" \"*\" \" \"   \"*\"  \n",
       "10  ( 1 ) \" \"    \" \"    \"*\" \"*\" \"*\" \"*\"   \"*\"  \n",
       "11  ( 1 ) \"*\"    \" \"    \"*\" \"*\" \"*\" \" \"   \"*\"  \n",
       "12  ( 1 ) \" \"    \" \"    \"*\" \"*\" \"*\" \"*\"   \"*\"  \n",
       "13  ( 1 ) \"*\"    \" \"    \"*\" \"*\" \"*\" \"*\"   \"*\"  \n",
       "14  ( 1 ) \"*\"    \" \"    \"*\" \"*\" \"*\" \"*\"   \"*\"  \n",
       "15  ( 1 ) \"*\"    \" \"    \"*\" \"*\" \"*\" \"*\"   \"*\"  \n",
       "16  ( 1 ) \"*\"    \" \"    \"*\" \"*\" \"*\" \"*\"   \"*\"  \n",
       "17  ( 1 ) \"*\"    \"*\"    \"*\" \"*\" \"*\" \"*\"   \"*\"  "
      ]
     },
     "metadata": {},
     "output_type": "display_data"
    }
   ],
   "source": [
    "fit_best <- regsubsets(condition ~ ., data = train, nvmax = 17) \n",
    "fit_best_sum<-summary(fit_best)\n",
    "fit_best_sum"
   ]
  },
  {
   "cell_type": "code",
   "execution_count": 15,
   "id": "edcc6816-534e-48f5-8602-bb376d996ef6",
   "metadata": {},
   "outputs": [
    {
     "data": {
      "text/plain": [
       "Subset selection object\n",
       "Call: regsubsets.formula(condition ~ ., data = train, nvmax = 17, method = \"forward\")\n",
       "17 Variables  (and intercept)\n",
       "         Forced in Forced out\n",
       "age          FALSE      FALSE\n",
       "sex1         FALSE      FALSE\n",
       "cp1          FALSE      FALSE\n",
       "trestbps     FALSE      FALSE\n",
       "chol         FALSE      FALSE\n",
       "fbs1         FALSE      FALSE\n",
       "restecg1     FALSE      FALSE\n",
       "thalach      FALSE      FALSE\n",
       "exang1       FALSE      FALSE\n",
       "oldpeak      FALSE      FALSE\n",
       "slope1       FALSE      FALSE\n",
       "slope2       FALSE      FALSE\n",
       "ca1          FALSE      FALSE\n",
       "ca2          FALSE      FALSE\n",
       "ca3          FALSE      FALSE\n",
       "thal1        FALSE      FALSE\n",
       "thal2        FALSE      FALSE\n",
       "1 subsets of each size up to 17\n",
       "Selection Algorithm: forward\n",
       "          age sex1 cp1 trestbps chol fbs1 restecg1 thalach exang1 oldpeak\n",
       "1  ( 1 )  \" \" \" \"  \" \" \" \"      \" \"  \" \"  \" \"      \" \"     \" \"    \" \"    \n",
       "2  ( 1 )  \" \" \" \"  \" \" \" \"      \" \"  \" \"  \" \"      \"*\"     \" \"    \" \"    \n",
       "3  ( 1 )  \" \" \" \"  \" \" \" \"      \" \"  \" \"  \" \"      \"*\"     \" \"    \"*\"    \n",
       "4  ( 1 )  \" \" \" \"  \" \" \" \"      \" \"  \" \"  \" \"      \"*\"     \"*\"    \"*\"    \n",
       "5  ( 1 )  \" \" \" \"  \" \" \" \"      \" \"  \" \"  \" \"      \"*\"     \"*\"    \"*\"    \n",
       "6  ( 1 )  \" \" \" \"  \" \" \" \"      \" \"  \" \"  \" \"      \"*\"     \"*\"    \"*\"    \n",
       "7  ( 1 )  \" \" \" \"  \" \" \" \"      \" \"  \" \"  \" \"      \"*\"     \"*\"    \"*\"    \n",
       "8  ( 1 )  \" \" \" \"  \" \" \" \"      \" \"  \" \"  \"*\"      \"*\"     \"*\"    \"*\"    \n",
       "9  ( 1 )  \" \" \"*\"  \" \" \" \"      \" \"  \" \"  \"*\"      \"*\"     \"*\"    \"*\"    \n",
       "10  ( 1 ) \" \" \"*\"  \" \" \" \"      \" \"  \" \"  \"*\"      \"*\"     \"*\"    \"*\"    \n",
       "11  ( 1 ) \" \" \"*\"  \" \" \" \"      \" \"  \" \"  \"*\"      \"*\"     \"*\"    \"*\"    \n",
       "12  ( 1 ) \" \" \"*\"  \" \" \"*\"      \" \"  \" \"  \"*\"      \"*\"     \"*\"    \"*\"    \n",
       "13  ( 1 ) \" \" \"*\"  \" \" \"*\"      \" \"  \"*\"  \"*\"      \"*\"     \"*\"    \"*\"    \n",
       "14  ( 1 ) \" \" \"*\"  \"*\" \"*\"      \" \"  \"*\"  \"*\"      \"*\"     \"*\"    \"*\"    \n",
       "15  ( 1 ) \"*\" \"*\"  \"*\" \"*\"      \" \"  \"*\"  \"*\"      \"*\"     \"*\"    \"*\"    \n",
       "16  ( 1 ) \"*\" \"*\"  \"*\" \"*\"      \"*\"  \"*\"  \"*\"      \"*\"     \"*\"    \"*\"    \n",
       "17  ( 1 ) \"*\" \"*\"  \"*\" \"*\"      \"*\"  \"*\"  \"*\"      \"*\"     \"*\"    \"*\"    \n",
       "          slope1 slope2 ca1 ca2 ca3 thal1 thal2\n",
       "1  ( 1 )  \" \"    \" \"    \" \" \" \" \" \" \" \"   \"*\"  \n",
       "2  ( 1 )  \" \"    \" \"    \" \" \" \" \" \" \" \"   \"*\"  \n",
       "3  ( 1 )  \" \"    \" \"    \" \" \" \" \" \" \" \"   \"*\"  \n",
       "4  ( 1 )  \" \"    \" \"    \" \" \" \" \" \" \" \"   \"*\"  \n",
       "5  ( 1 )  \" \"    \" \"    \" \" \"*\" \" \" \" \"   \"*\"  \n",
       "6  ( 1 )  \" \"    \" \"    \"*\" \"*\" \" \" \" \"   \"*\"  \n",
       "7  ( 1 )  \" \"    \" \"    \"*\" \"*\" \"*\" \" \"   \"*\"  \n",
       "8  ( 1 )  \" \"    \" \"    \"*\" \"*\" \"*\" \" \"   \"*\"  \n",
       "9  ( 1 )  \" \"    \" \"    \"*\" \"*\" \"*\" \" \"   \"*\"  \n",
       "10  ( 1 ) \" \"    \" \"    \"*\" \"*\" \"*\" \"*\"   \"*\"  \n",
       "11  ( 1 ) \"*\"    \" \"    \"*\" \"*\" \"*\" \"*\"   \"*\"  \n",
       "12  ( 1 ) \"*\"    \" \"    \"*\" \"*\" \"*\" \"*\"   \"*\"  \n",
       "13  ( 1 ) \"*\"    \" \"    \"*\" \"*\" \"*\" \"*\"   \"*\"  \n",
       "14  ( 1 ) \"*\"    \" \"    \"*\" \"*\" \"*\" \"*\"   \"*\"  \n",
       "15  ( 1 ) \"*\"    \" \"    \"*\" \"*\" \"*\" \"*\"   \"*\"  \n",
       "16  ( 1 ) \"*\"    \" \"    \"*\" \"*\" \"*\" \"*\"   \"*\"  \n",
       "17  ( 1 ) \"*\"    \"*\"    \"*\" \"*\" \"*\" \"*\"   \"*\"  "
      ]
     },
     "metadata": {},
     "output_type": "display_data"
    }
   ],
   "source": [
    "fit_fwd <-regsubsets(condition ~ ., data = train, nvmax = 17, method = \"forward\")\n",
    "fit_fwd_sum <- summary(fit_fwd) \n",
    "fit_fwd_sum"
   ]
  },
  {
   "cell_type": "code",
   "execution_count": 16,
   "id": "4b43f22a-45c2-418f-96e8-38a0352a08dc",
   "metadata": {},
   "outputs": [
    {
     "data": {
      "text/plain": [
       "Subset selection object\n",
       "Call: regsubsets.formula(condition ~ ., data = train, nvmax = 17, method = \"backward\")\n",
       "17 Variables  (and intercept)\n",
       "         Forced in Forced out\n",
       "age          FALSE      FALSE\n",
       "sex1         FALSE      FALSE\n",
       "cp1          FALSE      FALSE\n",
       "trestbps     FALSE      FALSE\n",
       "chol         FALSE      FALSE\n",
       "fbs1         FALSE      FALSE\n",
       "restecg1     FALSE      FALSE\n",
       "thalach      FALSE      FALSE\n",
       "exang1       FALSE      FALSE\n",
       "oldpeak      FALSE      FALSE\n",
       "slope1       FALSE      FALSE\n",
       "slope2       FALSE      FALSE\n",
       "ca1          FALSE      FALSE\n",
       "ca2          FALSE      FALSE\n",
       "ca3          FALSE      FALSE\n",
       "thal1        FALSE      FALSE\n",
       "thal2        FALSE      FALSE\n",
       "1 subsets of each size up to 17\n",
       "Selection Algorithm: backward\n",
       "          age sex1 cp1 trestbps chol fbs1 restecg1 thalach exang1 oldpeak\n",
       "1  ( 1 )  \" \" \" \"  \" \" \" \"      \" \"  \" \"  \" \"      \" \"     \" \"    \" \"    \n",
       "2  ( 1 )  \" \" \" \"  \" \" \" \"      \" \"  \" \"  \" \"      \" \"     \" \"    \"*\"    \n",
       "3  ( 1 )  \" \" \" \"  \" \" \" \"      \" \"  \" \"  \" \"      \" \"     \"*\"    \"*\"    \n",
       "4  ( 1 )  \" \" \" \"  \" \" \" \"      \" \"  \" \"  \" \"      \" \"     \"*\"    \"*\"    \n",
       "5  ( 1 )  \" \" \" \"  \" \" \" \"      \" \"  \" \"  \" \"      \" \"     \"*\"    \"*\"    \n",
       "6  ( 1 )  \" \" \" \"  \" \" \" \"      \" \"  \" \"  \" \"      \" \"     \"*\"    \"*\"    \n",
       "7  ( 1 )  \" \" \" \"  \" \" \" \"      \" \"  \" \"  \" \"      \"*\"     \"*\"    \"*\"    \n",
       "8  ( 1 )  \" \" \" \"  \" \" \" \"      \" \"  \" \"  \"*\"      \"*\"     \"*\"    \"*\"    \n",
       "9  ( 1 )  \" \" \"*\"  \" \" \" \"      \" \"  \" \"  \"*\"      \"*\"     \"*\"    \"*\"    \n",
       "10  ( 1 ) \" \" \"*\"  \" \" \"*\"      \" \"  \" \"  \"*\"      \"*\"     \"*\"    \"*\"    \n",
       "11  ( 1 ) \" \" \"*\"  \" \" \"*\"      \" \"  \"*\"  \"*\"      \"*\"     \"*\"    \"*\"    \n",
       "12  ( 1 ) \" \" \"*\"  \" \" \"*\"      \" \"  \"*\"  \"*\"      \"*\"     \"*\"    \"*\"    \n",
       "13  ( 1 ) \" \" \"*\"  \" \" \"*\"      \" \"  \"*\"  \"*\"      \"*\"     \"*\"    \"*\"    \n",
       "14  ( 1 ) \" \" \"*\"  \"*\" \"*\"      \" \"  \"*\"  \"*\"      \"*\"     \"*\"    \"*\"    \n",
       "15  ( 1 ) \"*\" \"*\"  \"*\" \"*\"      \" \"  \"*\"  \"*\"      \"*\"     \"*\"    \"*\"    \n",
       "16  ( 1 ) \"*\" \"*\"  \"*\" \"*\"      \"*\"  \"*\"  \"*\"      \"*\"     \"*\"    \"*\"    \n",
       "17  ( 1 ) \"*\" \"*\"  \"*\" \"*\"      \"*\"  \"*\"  \"*\"      \"*\"     \"*\"    \"*\"    \n",
       "          slope1 slope2 ca1 ca2 ca3 thal1 thal2\n",
       "1  ( 1 )  \" \"    \" \"    \" \" \" \" \" \" \" \"   \"*\"  \n",
       "2  ( 1 )  \" \"    \" \"    \" \" \" \" \" \" \" \"   \"*\"  \n",
       "3  ( 1 )  \" \"    \" \"    \" \" \" \" \" \" \" \"   \"*\"  \n",
       "4  ( 1 )  \" \"    \" \"    \" \" \"*\" \" \" \" \"   \"*\"  \n",
       "5  ( 1 )  \" \"    \" \"    \"*\" \"*\" \" \" \" \"   \"*\"  \n",
       "6  ( 1 )  \" \"    \" \"    \"*\" \"*\" \"*\" \" \"   \"*\"  \n",
       "7  ( 1 )  \" \"    \" \"    \"*\" \"*\" \"*\" \" \"   \"*\"  \n",
       "8  ( 1 )  \" \"    \" \"    \"*\" \"*\" \"*\" \" \"   \"*\"  \n",
       "9  ( 1 )  \" \"    \" \"    \"*\" \"*\" \"*\" \" \"   \"*\"  \n",
       "10  ( 1 ) \" \"    \" \"    \"*\" \"*\" \"*\" \" \"   \"*\"  \n",
       "11  ( 1 ) \" \"    \" \"    \"*\" \"*\" \"*\" \" \"   \"*\"  \n",
       "12  ( 1 ) \" \"    \" \"    \"*\" \"*\" \"*\" \"*\"   \"*\"  \n",
       "13  ( 1 ) \"*\"    \" \"    \"*\" \"*\" \"*\" \"*\"   \"*\"  \n",
       "14  ( 1 ) \"*\"    \" \"    \"*\" \"*\" \"*\" \"*\"   \"*\"  \n",
       "15  ( 1 ) \"*\"    \" \"    \"*\" \"*\" \"*\" \"*\"   \"*\"  \n",
       "16  ( 1 ) \"*\"    \" \"    \"*\" \"*\" \"*\" \"*\"   \"*\"  \n",
       "17  ( 1 ) \"*\"    \"*\"    \"*\" \"*\" \"*\" \"*\"   \"*\"  "
      ]
     },
     "metadata": {},
     "output_type": "display_data"
    }
   ],
   "source": [
    "fit_bwd <- regsubsets(condition ~ ., data = train, nvmax = 17, method = \"backward\") \n",
    "fit_bwd_sum <- summary(fit_bwd) \n",
    "fit_bwd_sum"
   ]
  },
  {
   "cell_type": "code",
   "execution_count": 17,
   "id": "03af2c58-db18-4a08-9327-482bfb7f53c9",
   "metadata": {},
   "outputs": [
    {
     "data": {
      "text/html": [
       "<table class=\"dataframe\">\n",
       "<caption>A data.frame: 3 × 3</caption>\n",
       "<thead>\n",
       "\t<tr><th></th><th scope=col>Cp</th><th scope=col>bic</th><th scope=col>adjr2</th></tr>\n",
       "\t<tr><th></th><th scope=col>&lt;int&gt;</th><th scope=col>&lt;int&gt;</th><th scope=col>&lt;int&gt;</th></tr>\n",
       "</thead>\n",
       "<tbody>\n",
       "\t<tr><th scope=row>Best Subset selection</th><td>12</td><td>7</td><td>13</td></tr>\n",
       "\t<tr><th scope=row>Forward Stepwise</th><td>13</td><td>7</td><td>13</td></tr>\n",
       "\t<tr><th scope=row>Backward Stepwise</th><td>12</td><td>7</td><td>13</td></tr>\n",
       "</tbody>\n",
       "</table>\n"
      ],
      "text/latex": [
       "A data.frame: 3 × 3\n",
       "\\begin{tabular}{r|lll}\n",
       "  & Cp & bic & adjr2\\\\\n",
       "  & <int> & <int> & <int>\\\\\n",
       "\\hline\n",
       "\tBest Subset selection & 12 & 7 & 13\\\\\n",
       "\tForward Stepwise & 13 & 7 & 13\\\\\n",
       "\tBackward Stepwise & 12 & 7 & 13\\\\\n",
       "\\end{tabular}\n"
      ],
      "text/markdown": [
       "\n",
       "A data.frame: 3 × 3\n",
       "\n",
       "| <!--/--> | Cp &lt;int&gt; | bic &lt;int&gt; | adjr2 &lt;int&gt; |\n",
       "|---|---|---|---|\n",
       "| Best Subset selection | 12 | 7 | 13 |\n",
       "| Forward Stepwise | 13 | 7 | 13 |\n",
       "| Backward Stepwise | 12 | 7 | 13 |\n",
       "\n"
      ],
      "text/plain": [
       "                      Cp bic adjr2\n",
       "Best Subset selection 12 7   13   \n",
       "Forward Stepwise      13 7   13   \n",
       "Backward Stepwise     12 7   13   "
      ]
     },
     "metadata": {},
     "output_type": "display_data"
    }
   ],
   "source": [
    "results= data.frame( \n",
    "    \"Cp\" = c(which.min(summary(fit_best)$cp),which.min(summary(fit_fwd)$cp),\n",
    "                             which.min(summary(fit_bwd)$cp)),\n",
    "    \"bic\"= c(which.min(summary(fit_best)$bic),which.min(summary(fit_fwd)$bic),\n",
    "                             which.min(summary(fit_bwd)$bic)), \n",
    "    \"adjr2\" = c(which.max(summary(fit_best)$adjr2),which.max(summary(fit_fwd)$adjr2),\n",
    "                             which.max(summary(fit_bwd)$adjr2))\n",
    ")\n",
    "\n",
    "x=c(\"Best Subset selection\", \"Forward Stepwise\",\"Backward Stepwise\")\n",
    "\n",
    "row.names(results) = x\n",
    "\n",
    "results"
   ]
  },
  {
   "cell_type": "code",
   "execution_count": 23,
   "id": "88c212b3-650d-43af-87e9-5c426488715c",
   "metadata": {},
   "outputs": [
    {
     "data": {
      "text/plain": [
       "\n",
       "Call:\n",
       "glm(formula = condition ~ . - cp - age - chol - slope, family = binomial, \n",
       "    data = train)\n",
       "\n",
       "Deviance Residuals: \n",
       "     Min        1Q    Median        3Q       Max  \n",
       "-2.71464  -0.43177   0.04957   0.36028   2.60522  \n",
       "\n",
       "Coefficients:\n",
       "            Estimate Std. Error z value Pr(>|z|)    \n",
       "(Intercept) -2.89225    2.34425  -1.234 0.217290    \n",
       "sex1         1.06938    0.54182   1.974 0.048417 *  \n",
       "trestbps     0.02784    0.01343   2.073 0.038174 *  \n",
       "fbs1        -1.08351    0.62205  -1.742 0.081537 .  \n",
       "restecg1     0.74151    0.42751   1.734 0.082830 .  \n",
       "thalach     -0.02857    0.01151  -2.483 0.013029 *  \n",
       "exang1       1.47138    0.46055   3.195 0.001399 ** \n",
       "oldpeak      0.53176    0.23019   2.310 0.020883 *  \n",
       "ca1          1.72450    0.52145   3.307 0.000943 ***\n",
       "ca2          3.22623    0.86825   3.716 0.000203 ***\n",
       "ca3          2.00196    0.91264   2.194 0.028266 *  \n",
       "thal1        0.34509    0.86554   0.399 0.690110    \n",
       "thal2        1.61580    0.48018   3.365 0.000765 ***\n",
       "---\n",
       "Signif. codes:  0 ‘***’ 0.001 ‘**’ 0.01 ‘*’ 0.05 ‘.’ 0.1 ‘ ’ 1\n",
       "\n",
       "(Dispersion parameter for binomial family taken to be 1)\n",
       "\n",
       "    Null deviance: 328.45  on 236  degrees of freedom\n",
       "Residual deviance: 149.33  on 224  degrees of freedom\n",
       "AIC: 175.33\n",
       "\n",
       "Number of Fisher Scoring iterations: 6\n"
      ]
     },
     "metadata": {},
     "output_type": "display_data"
    }
   ],
   "source": [
    "fit.lr_fit <- glm(condition ~ .-cp-age-chol-slope, data = train, family=binomial)\n",
    "summary(fit.lr_fit)"
   ]
  },
  {
   "cell_type": "code",
   "execution_count": 24,
   "id": "64729fa6-8275-4d9d-baec-dc857f058b58",
   "metadata": {},
   "outputs": [
    {
     "data": {
      "text/html": [
       "<style>\n",
       ".dl-inline {width: auto; margin:0; padding: 0}\n",
       ".dl-inline>dt, .dl-inline>dd {float: none; width: auto; display: inline-block}\n",
       ".dl-inline>dt::after {content: \":\\0020\"; padding-right: .5ex}\n",
       ".dl-inline>dt:not(:first-of-type) {padding-left: .5ex}\n",
       "</style><dl class=dl-inline><dt>1</dt><dd>0</dd><dt>2</dt><dd>0</dd><dt>3</dt><dd>0</dd><dt>4</dt><dd>1</dd><dt>5</dt><dd>1</dd><dt>6</dt><dd>0</dd></dl>\n",
       "\n",
       "<details>\n",
       "\t<summary style=display:list-item;cursor:pointer>\n",
       "\t\t<strong>Levels</strong>:\n",
       "\t</summary>\n",
       "\t<style>\n",
       "\t.list-inline {list-style: none; margin:0; padding: 0}\n",
       "\t.list-inline>li {display: inline-block}\n",
       "\t.list-inline>li:not(:last-child)::after {content: \"\\00b7\"; padding: 0 .5ex}\n",
       "\t</style>\n",
       "\t<ol class=list-inline><li>'0'</li><li>'1'</li></ol>\n",
       "</details>"
      ],
      "text/latex": [
       "\\begin{description*}\n",
       "\\item[1] 0\n",
       "\\item[2] 0\n",
       "\\item[3] 0\n",
       "\\item[4] 1\n",
       "\\item[5] 1\n",
       "\\item[6] 0\n",
       "\\end{description*}\n",
       "\n",
       "\\emph{Levels}: \\begin{enumerate*}\n",
       "\\item '0'\n",
       "\\item '1'\n",
       "\\end{enumerate*}\n"
      ],
      "text/markdown": [
       "1\n",
       ":   02\n",
       ":   03\n",
       ":   04\n",
       ":   15\n",
       ":   16\n",
       ":   0\n",
       "\n",
       "\n",
       "**Levels**: 1. '0'\n",
       "2. '1'\n",
       "\n",
       "\n"
      ],
      "text/plain": [
       "1 2 3 4 5 6 \n",
       "0 0 0 1 1 0 \n",
       "Levels: 0 1"
      ]
     },
     "metadata": {},
     "output_type": "display_data"
    },
    {
     "data": {
      "text/plain": [
       "Confusion Matrix and Statistics\n",
       "\n",
       "          Reference\n",
       "Prediction  0  1\n",
       "         0 34  1\n",
       "         1  3 21\n",
       "                                          \n",
       "               Accuracy : 0.9322          \n",
       "                 95% CI : (0.8354, 0.9812)\n",
       "    No Information Rate : 0.6271          \n",
       "    P-Value [Acc > NIR] : 7.116e-08       \n",
       "                                          \n",
       "                  Kappa : 0.8577          \n",
       "                                          \n",
       " Mcnemar's Test P-Value : 0.6171          \n",
       "                                          \n",
       "            Sensitivity : 0.9545          \n",
       "            Specificity : 0.9189          \n",
       "         Pos Pred Value : 0.8750          \n",
       "         Neg Pred Value : 0.9714          \n",
       "             Prevalence : 0.3729          \n",
       "         Detection Rate : 0.3559          \n",
       "   Detection Prevalence : 0.4068          \n",
       "      Balanced Accuracy : 0.9367          \n",
       "                                          \n",
       "       'Positive' Class : 1               \n",
       "                                          "
      ]
     },
     "metadata": {},
     "output_type": "display_data"
    }
   ],
   "source": [
    "pred_lr_fit <-predict(fit.lr_fit, newdata = validation, type=\"response\")\n",
    "predict_labels_fit = ifelse(pred_lr_fit > 0.5, \"1\", \"0\") \n",
    "predict_labels_fit=as.factor(predict_labels_fit)\n",
    "head(predict_labels_fit)\n",
    "confusionMatrix(predict_labels_fit, validation$condition, positive=\"1\")"
   ]
  },
  {
   "cell_type": "code",
   "execution_count": 25,
   "id": "571268c5-fde4-42ce-8dfd-3de14b9803f6",
   "metadata": {},
   "outputs": [
    {
     "name": "stderr",
     "output_type": "stream",
     "text": [
      "Setting levels: control = 0, case = 1\n",
      "\n",
      "Setting direction: controls < cases\n",
      "\n"
     ]
    },
    {
     "data": {
      "image/png": "[encoded data removed]",
      "text/plain": [
       "plot without title"
      ]
     },
     "metadata": {
      "image/png": {
       "height": 420,
       "width": 420
      }
     },
     "output_type": "display_data"
    }
   ],
   "source": [
    "ROC_lr_fit <- roc(validation$condition, pred_lr_fit)\n",
    "plot(ROC_lr_fit)"
   ]
  },
  {
   "cell_type": "code",
   "execution_count": 26,
   "id": "d0003e08-7b1f-4ff7-96aa-b4af97449a32",
   "metadata": {},
   "outputs": [
    {
     "data": {
      "text/html": [
       "0.101694915254237"
      ],
      "text/latex": [
       "0.101694915254237"
      ],
      "text/markdown": [
       "0.101694915254237"
      ],
      "text/plain": [
       "[1] 0.1016949"
      ]
     },
     "metadata": {},
     "output_type": "display_data"
    },
    {
     "data": {
      "text/plain": [
       "Confusion Matrix and Statistics\n",
       "\n",
       "          Reference\n",
       "Prediction  0  1\n",
       "         0 32  1\n",
       "         1  5 21\n",
       "                                          \n",
       "               Accuracy : 0.8983          \n",
       "                 95% CI : (0.7917, 0.9618)\n",
       "    No Information Rate : 0.6271          \n",
       "    P-Value [Acc > NIR] : 2.684e-06       \n",
       "                                          \n",
       "                  Kappa : 0.7903          \n",
       "                                          \n",
       " Mcnemar's Test P-Value : 0.2207          \n",
       "                                          \n",
       "            Sensitivity : 0.8649          \n",
       "            Specificity : 0.9545          \n",
       "         Pos Pred Value : 0.9697          \n",
       "         Neg Pred Value : 0.8077          \n",
       "             Prevalence : 0.6271          \n",
       "         Detection Rate : 0.5424          \n",
       "   Detection Prevalence : 0.5593          \n",
       "      Balanced Accuracy : 0.9097          \n",
       "                                          \n",
       "       'Positive' Class : 0               \n",
       "                                          "
      ]
     },
     "metadata": {},
     "output_type": "display_data"
    }
   ],
   "source": [
    "nb_model <- naiveBayes(condition ~ ., data = train, trControl = tr)\n",
    "nb_pred <- predict(nb_model, validation)\n",
    "#mse\n",
    "mean((as.numeric(validation$condition) - as.numeric(nb_pred))^2)\n",
    "#confusion matrix\n",
    "confusionMatrix(nb_pred, validation$condition)"
   ]
  },
  {
   "cell_type": "code",
   "execution_count": 23,
   "id": "36058557-964c-4ad4-aa0b-a57c49bb4cca",
   "metadata": {},
   "outputs": [
    {
     "name": "stderr",
     "output_type": "stream",
     "text": [
      "Setting levels: control = 0, case = 1\n",
      "\n",
      "Setting direction: controls < cases\n",
      "\n"
     ]
    },
    {
     "data": {
      "image/png": "[encoded data removed]",
      "text/plain": [
       "plot without title"
      ]
     },
     "metadata": {
      "image/png": {
       "height": 420,
       "width": 420
      }
     },
     "output_type": "display_data"
    }
   ],
   "source": [
    "ROC_nb <- roc(validation$condition, as.numeric(nb_pred))\n",
    "plot(ROC_nb)"
   ]
  },
  {
   "cell_type": "code",
   "execution_count": 17,
   "id": "8e2827d7-e0da-49c7-9512-1f6c6ee860f1",
   "metadata": {},
   "outputs": [
    {
     "data": {
      "text/plain": [
       "\n",
       "  0   1 \n",
       "116 121 "
      ]
     },
     "metadata": {},
     "output_type": "display_data"
    },
    {
     "data": {
      "text/plain": [
       "\n",
       " 0  1 \n",
       "37 22 "
      ]
     },
     "metadata": {},
     "output_type": "display_data"
    },
    {
     "data": {
      "text/plain": [
       "      age         sex    cp        trestbps           chol        fbs   \n",
       " Min.   :0.0000   0:20   0:19   Min.   :0.0000   Min.   :0.0000   0:52  \n",
       " 1st Qu.:0.2619   1:39   1:40   1st Qu.:0.3023   1st Qu.:0.2462   1: 7  \n",
       " Median :0.5000                 Median :0.4186   Median :0.4162         \n",
       " Mean   :0.4722                 Mean   :0.4484   Mean   :0.4193         \n",
       " 3rd Qu.:0.6310                 3rd Qu.:0.5349   3rd Qu.:0.5838         \n",
       " Max.   :1.0000                 Max.   :1.0000   Max.   :1.0000         \n",
       " restecg    thalach       exang     oldpeak      slope  ca     thal   condition\n",
       " 0:33    Min.   :0.0000   0:39   Min.   :0.000   0:25   0:41   0:33   0:37     \n",
       " 1:26    1st Qu.:0.4904   1:20   1st Qu.:0.000   1:28   1: 9   1: 4   1:22     \n",
       "         Median :0.6442          Median :0.600   2: 6   2: 6   2:22            \n",
       "         Mean   :0.6071          Mean   :1.122          3: 3                   \n",
       "         3rd Qu.:0.7788          3rd Qu.:1.600                                 \n",
       "         Max.   :1.0000          Max.   :6.200                                 "
      ]
     },
     "metadata": {},
     "output_type": "display_data"
    },
    {
     "data": {
      "text/plain": [
       "      age         sex     cp         trestbps           chol        fbs    \n",
       " Min.   :0.0000   0: 77   0: 13   Min.   :0.0000   Min.   :0.0000   0:204  \n",
       " 1st Qu.:0.3750   1:160   1:224   1st Qu.:0.2453   1st Qu.:0.2921   1: 33  \n",
       " Median :0.5417                   Median :0.3396   Median :0.4021          \n",
       " Mean   :0.5258                   Mean   :0.3491   Mean   :0.4128          \n",
       " 3rd Qu.:0.6667                   3rd Qu.:0.4340   3rd Qu.:0.5120          \n",
       " Max.   :1.0000                   Max.   :1.0000   Max.   :1.0000          \n",
       " restecg    thalach       exang      oldpeak      slope   ca      thal   \n",
       " 0:118   Min.   :0.0000   0:148   Min.   :0.000   0:106   0:132   0:123  \n",
       " 1:119   1st Qu.:0.4656   1: 89   1st Qu.:0.000   1:115   1: 55   1: 15  \n",
       "         Median :0.6031           Median :0.800   2: 16   2: 31   2: 99  \n",
       "         Mean   :0.5833           Mean   :1.125           3: 19          \n",
       "         3rd Qu.:0.7023           3rd Qu.:1.800                          \n",
       "         Max.   :1.0000           Max.   :6.200                          \n",
       " condition\n",
       " 0:116    \n",
       " 1:121    \n",
       "          \n",
       "          \n",
       "          \n",
       "          "
      ]
     },
     "metadata": {},
     "output_type": "display_data"
    }
   ],
   "source": [
    "#neural net\n",
    "\n",
    "#scaling\n",
    "scale.fun <- function(x){\n",
    "  (x - min(x)) / (max(x) - min(x))\n",
    "}\n",
    "\n",
    "train_2 <- train %>% mutate_if(is.integer, scale.fun) \n",
    "vali_2<- validation %>% mutate_if(is.integer, scale.fun)\n",
    "\n",
    "table(train_2$condition)\n",
    "table(vali_2$condition)\n",
    "summary(vali_2)\n",
    "summary(train_2)"
   ]
  },
  {
   "cell_type": "code",
   "execution_count": 18,
   "id": "95dad0cd-5c1d-4c27-aca2-edb419bab248",
   "metadata": {},
   "outputs": [
    {
     "data": {
      "text/html": [
       "<table class=\"dataframe\">\n",
       "<caption>A matrix: 6 × 12 of type dbl</caption>\n",
       "<thead>\n",
       "\t<tr><th></th><th scope=col>sex1</th><th scope=col>cp1</th><th scope=col>fbs1</th><th scope=col>restecg1</th><th scope=col>slope1</th><th scope=col>slope2</th><th scope=col>ca1</th><th scope=col>ca2</th><th scope=col>ca3</th><th scope=col>thal1</th><th scope=col>thal2</th><th scope=col>condition1</th></tr>\n",
       "</thead>\n",
       "<tbody>\n",
       "\t<tr><th scope=row>60</th><td>1</td><td>0</td><td>0</td><td>0</td><td>0</td><td>0</td><td>0</td><td>0</td><td>0</td><td>0</td><td>1</td><td>0</td></tr>\n",
       "\t<tr><th scope=row>61</th><td>1</td><td>0</td><td>0</td><td>1</td><td>0</td><td>0</td><td>0</td><td>0</td><td>0</td><td>0</td><td>0</td><td>0</td></tr>\n",
       "\t<tr><th scope=row>62</th><td>1</td><td>0</td><td>0</td><td>0</td><td>0</td><td>0</td><td>0</td><td>0</td><td>0</td><td>0</td><td>0</td><td>0</td></tr>\n",
       "\t<tr><th scope=row>63</th><td>1</td><td>0</td><td>0</td><td>0</td><td>0</td><td>0</td><td>0</td><td>0</td><td>0</td><td>0</td><td>0</td><td>0</td></tr>\n",
       "\t<tr><th scope=row>64</th><td>1</td><td>0</td><td>0</td><td>0</td><td>1</td><td>0</td><td>0</td><td>0</td><td>0</td><td>1</td><td>0</td><td>0</td></tr>\n",
       "\t<tr><th scope=row>65</th><td>0</td><td>0</td><td>0</td><td>1</td><td>0</td><td>0</td><td>0</td><td>0</td><td>0</td><td>0</td><td>0</td><td>0</td></tr>\n",
       "</tbody>\n",
       "</table>\n"
      ],
      "text/latex": [
       "A matrix: 6 × 12 of type dbl\n",
       "\\begin{tabular}{r|llllllllllll}\n",
       "  & sex1 & cp1 & fbs1 & restecg1 & slope1 & slope2 & ca1 & ca2 & ca3 & thal1 & thal2 & condition1\\\\\n",
       "\\hline\n",
       "\t60 & 1 & 0 & 0 & 0 & 0 & 0 & 0 & 0 & 0 & 0 & 1 & 0\\\\\n",
       "\t61 & 1 & 0 & 0 & 1 & 0 & 0 & 0 & 0 & 0 & 0 & 0 & 0\\\\\n",
       "\t62 & 1 & 0 & 0 & 0 & 0 & 0 & 0 & 0 & 0 & 0 & 0 & 0\\\\\n",
       "\t63 & 1 & 0 & 0 & 0 & 0 & 0 & 0 & 0 & 0 & 0 & 0 & 0\\\\\n",
       "\t64 & 1 & 0 & 0 & 0 & 1 & 0 & 0 & 0 & 0 & 1 & 0 & 0\\\\\n",
       "\t65 & 0 & 0 & 0 & 1 & 0 & 0 & 0 & 0 & 0 & 0 & 0 & 0\\\\\n",
       "\\end{tabular}\n"
      ],
      "text/markdown": [
       "\n",
       "A matrix: 6 × 12 of type dbl\n",
       "\n",
       "| <!--/--> | sex1 | cp1 | fbs1 | restecg1 | slope1 | slope2 | ca1 | ca2 | ca3 | thal1 | thal2 | condition1 |\n",
       "|---|---|---|---|---|---|---|---|---|---|---|---|---|\n",
       "| 60 | 1 | 0 | 0 | 0 | 0 | 0 | 0 | 0 | 0 | 0 | 1 | 0 |\n",
       "| 61 | 1 | 0 | 0 | 1 | 0 | 0 | 0 | 0 | 0 | 0 | 0 | 0 |\n",
       "| 62 | 1 | 0 | 0 | 0 | 0 | 0 | 0 | 0 | 0 | 0 | 0 | 0 |\n",
       "| 63 | 1 | 0 | 0 | 0 | 0 | 0 | 0 | 0 | 0 | 0 | 0 | 0 |\n",
       "| 64 | 1 | 0 | 0 | 0 | 1 | 0 | 0 | 0 | 0 | 1 | 0 | 0 |\n",
       "| 65 | 0 | 0 | 0 | 1 | 0 | 0 | 0 | 0 | 0 | 0 | 0 | 0 |\n",
       "\n"
      ],
      "text/plain": [
       "   sex1 cp1 fbs1 restecg1 slope1 slope2 ca1 ca2 ca3 thal1 thal2 condition1\n",
       "60 1    0   0    0        0      0      0   0   0   0     1     0         \n",
       "61 1    0   0    1        0      0      0   0   0   0     0     0         \n",
       "62 1    0   0    0        0      0      0   0   0   0     0     0         \n",
       "63 1    0   0    0        0      0      0   0   0   0     0     0         \n",
       "64 1    0   0    0        1      0      0   0   0   1     0     0         \n",
       "65 0    0   0    1        0      0      0   0   0   0     0     0         "
      ]
     },
     "metadata": {},
     "output_type": "display_data"
    },
    {
     "name": "stdout",
     "output_type": "stream",
     "text": [
      "'data.frame':\t237 obs. of  26 variables:\n",
      " $ age       : num  0.312 0.312 0.312 0.271 0.25 ...\n",
      " $ sex       : Factor w/ 2 levels \"0\",\"1\": 2 2 2 2 2 1 1 2 1 2 ...\n",
      " $ cp        : Factor w/ 2 levels \"0\",\"1\": 1 1 1 1 1 1 1 1 1 1 ...\n",
      " $ trestbps  : num  0.245 0.34 0.245 0.245 0.387 ...\n",
      " $ chol      : num  0.471 0.32 0.323 0.581 0.265 ...\n",
      " $ fbs       : Factor w/ 2 levels \"0\",\"1\": 1 1 1 1 1 1 1 1 1 1 ...\n",
      " $ restecg   : Factor w/ 2 levels \"0\",\"1\": 1 2 1 1 1 2 1 1 1 1 ...\n",
      " $ thalach   : num  0.779 0.893 0.756 0.695 0.466 ...\n",
      " $ exang     : Factor w/ 2 levels \"0\",\"1\": 1 1 1 1 1 1 1 1 1 1 ...\n",
      " $ oldpeak   : num  0 0 0 0 0 1.4 0 0 0 0 ...\n",
      " $ slope     : Factor w/ 3 levels \"0\",\"1\",\"2\": 1 1 1 1 2 1 1 1 1 1 ...\n",
      " $ ca        : Factor w/ 4 levels \"0\",\"1\",\"2\",\"3\": 1 1 1 1 1 1 2 1 1 1 ...\n",
      " $ thal      : Factor w/ 3 levels \"0\",\"1\",\"2\": 3 1 1 1 2 1 1 1 1 1 ...\n",
      " $ condition : Factor w/ 2 levels \"0\",\"1\": 1 1 1 1 1 1 1 1 1 1 ...\n",
      " $ sex1      : num  1 1 1 1 1 0 0 1 0 1 ...\n",
      " $ cp1       : num  0 0 0 0 0 0 0 0 0 0 ...\n",
      " $ fbs1      : num  0 0 0 0 0 0 0 0 0 0 ...\n",
      " $ restecg1  : num  0 1 0 0 0 1 0 0 0 0 ...\n",
      " $ slope1    : num  0 0 0 0 1 0 0 0 0 0 ...\n",
      " $ slope2    : num  0 0 0 0 0 0 0 0 0 0 ...\n",
      " $ ca1       : num  0 0 0 0 0 0 1 0 0 0 ...\n",
      " $ ca2       : num  0 0 0 0 0 0 0 0 0 0 ...\n",
      " $ ca3       : num  0 0 0 0 0 0 0 0 0 0 ...\n",
      " $ thal1     : num  0 0 0 0 1 0 0 0 0 0 ...\n",
      " $ thal2     : num  1 0 0 0 0 0 0 0 0 0 ...\n",
      " $ condition1: num  0 0 0 0 0 0 0 0 0 0 ...\n",
      "'data.frame':\t237 obs. of  16 variables:\n",
      " $ age       : num  0.312 0.312 0.312 0.271 0.25 ...\n",
      " $ trestbps  : num  0.245 0.34 0.245 0.245 0.387 ...\n",
      " $ chol      : num  0.471 0.32 0.323 0.581 0.265 ...\n",
      " $ thalach   : num  0.779 0.893 0.756 0.695 0.466 ...\n",
      " $ oldpeak   : num  0 0 0 0 0 1.4 0 0 0 0 ...\n",
      " $ cp1       : num  0 0 0 0 0 0 0 0 0 0 ...\n",
      " $ fbs1      : num  0 0 0 0 0 0 0 0 0 0 ...\n",
      " $ restecg1  : num  0 1 0 0 0 1 0 0 0 0 ...\n",
      " $ slope1    : num  0 0 0 0 1 0 0 0 0 0 ...\n",
      " $ slope2    : num  0 0 0 0 0 0 0 0 0 0 ...\n",
      " $ ca1       : num  0 0 0 0 0 0 1 0 0 0 ...\n",
      " $ ca2       : num  0 0 0 0 0 0 0 0 0 0 ...\n",
      " $ ca3       : num  0 0 0 0 0 0 0 0 0 0 ...\n",
      " $ thal1     : num  0 0 0 0 1 0 0 0 0 0 ...\n",
      " $ thal2     : num  1 0 0 0 0 0 0 0 0 0 ...\n",
      " $ condition1: num  0 0 0 0 0 0 0 0 0 0 ...\n"
     ]
    },
    {
     "data": {
      "text/html": [
       "<table class=\"dataframe\">\n",
       "<caption>A matrix: 21 × 1 of type dbl</caption>\n",
       "<tbody>\n",
       "\t<tr><th scope=row>error</th><td> 6.936633e+01</td></tr>\n",
       "\t<tr><th scope=row>reached.threshold</th><td> 9.884887e-03</td></tr>\n",
       "\t<tr><th scope=row>steps</th><td> 7.870000e+03</td></tr>\n",
       "\t<tr><th scope=row>Intercept.to.1layhid1</th><td> 1.458193e+00</td></tr>\n",
       "\t<tr><th scope=row>age.to.1layhid1</th><td> 6.167111e+01</td></tr>\n",
       "\t<tr><th scope=row>trestbps.to.1layhid1</th><td>-4.590607e+01</td></tr>\n",
       "\t<tr><th scope=row>chol.to.1layhid1</th><td> 1.362008e+01</td></tr>\n",
       "\t<tr><th scope=row>thalach.to.1layhid1</th><td> 7.970114e+01</td></tr>\n",
       "\t<tr><th scope=row>oldpeak.to.1layhid1</th><td>-2.232416e+00</td></tr>\n",
       "\t<tr><th scope=row>cp1.to.1layhid1</th><td>-2.896019e+01</td></tr>\n",
       "\t<tr><th scope=row>fbs1.to.1layhid1</th><td> 1.125713e+01</td></tr>\n",
       "\t<tr><th scope=row>restecg1.to.1layhid1</th><td>-3.159353e+00</td></tr>\n",
       "\t<tr><th scope=row>slope1.to.1layhid1</th><td>-1.485637e+01</td></tr>\n",
       "\t<tr><th scope=row>slope2.to.1layhid1</th><td>-1.390762e+01</td></tr>\n",
       "\t<tr><th scope=row>ca1.to.1layhid1</th><td>-1.685282e+01</td></tr>\n",
       "\t<tr><th scope=row>ca2.to.1layhid1</th><td>-5.981217e+01</td></tr>\n",
       "\t<tr><th scope=row>ca3.to.1layhid1</th><td>-2.108256e+01</td></tr>\n",
       "\t<tr><th scope=row>thal1.to.1layhid1</th><td>-1.770853e+01</td></tr>\n",
       "\t<tr><th scope=row>thal2.to.1layhid1</th><td>-3.419824e+01</td></tr>\n",
       "\t<tr><th scope=row>Intercept.to.condition1</th><td> 3.086281e+00</td></tr>\n",
       "\t<tr><th scope=row>1layhid1.to.condition1</th><td>-5.034806e+00</td></tr>\n",
       "</tbody>\n",
       "</table>\n"
      ],
      "text/latex": [
       "A matrix: 21 × 1 of type dbl\n",
       "\\begin{tabular}{r|l}\n",
       "\terror &  6.936633e+01\\\\\n",
       "\treached.threshold &  9.884887e-03\\\\\n",
       "\tsteps &  7.870000e+03\\\\\n",
       "\tIntercept.to.1layhid1 &  1.458193e+00\\\\\n",
       "\tage.to.1layhid1 &  6.167111e+01\\\\\n",
       "\ttrestbps.to.1layhid1 & -4.590607e+01\\\\\n",
       "\tchol.to.1layhid1 &  1.362008e+01\\\\\n",
       "\tthalach.to.1layhid1 &  7.970114e+01\\\\\n",
       "\toldpeak.to.1layhid1 & -2.232416e+00\\\\\n",
       "\tcp1.to.1layhid1 & -2.896019e+01\\\\\n",
       "\tfbs1.to.1layhid1 &  1.125713e+01\\\\\n",
       "\trestecg1.to.1layhid1 & -3.159353e+00\\\\\n",
       "\tslope1.to.1layhid1 & -1.485637e+01\\\\\n",
       "\tslope2.to.1layhid1 & -1.390762e+01\\\\\n",
       "\tca1.to.1layhid1 & -1.685282e+01\\\\\n",
       "\tca2.to.1layhid1 & -5.981217e+01\\\\\n",
       "\tca3.to.1layhid1 & -2.108256e+01\\\\\n",
       "\tthal1.to.1layhid1 & -1.770853e+01\\\\\n",
       "\tthal2.to.1layhid1 & -3.419824e+01\\\\\n",
       "\tIntercept.to.condition1 &  3.086281e+00\\\\\n",
       "\t1layhid1.to.condition1 & -5.034806e+00\\\\\n",
       "\\end{tabular}\n"
      ],
      "text/markdown": [
       "\n",
       "A matrix: 21 × 1 of type dbl\n",
       "\n",
       "| error |  6.936633e+01 |\n",
       "| reached.threshold |  9.884887e-03 |\n",
       "| steps |  7.870000e+03 |\n",
       "| Intercept.to.1layhid1 |  1.458193e+00 |\n",
       "| age.to.1layhid1 |  6.167111e+01 |\n",
       "| trestbps.to.1layhid1 | -4.590607e+01 |\n",
       "| chol.to.1layhid1 |  1.362008e+01 |\n",
       "| thalach.to.1layhid1 |  7.970114e+01 |\n",
       "| oldpeak.to.1layhid1 | -2.232416e+00 |\n",
       "| cp1.to.1layhid1 | -2.896019e+01 |\n",
       "| fbs1.to.1layhid1 |  1.125713e+01 |\n",
       "| restecg1.to.1layhid1 | -3.159353e+00 |\n",
       "| slope1.to.1layhid1 | -1.485637e+01 |\n",
       "| slope2.to.1layhid1 | -1.390762e+01 |\n",
       "| ca1.to.1layhid1 | -1.685282e+01 |\n",
       "| ca2.to.1layhid1 | -5.981217e+01 |\n",
       "| ca3.to.1layhid1 | -2.108256e+01 |\n",
       "| thal1.to.1layhid1 | -1.770853e+01 |\n",
       "| thal2.to.1layhid1 | -3.419824e+01 |\n",
       "| Intercept.to.condition1 |  3.086281e+00 |\n",
       "| 1layhid1.to.condition1 | -5.034806e+00 |\n",
       "\n"
      ],
      "text/plain": [
       "                        [,1]         \n",
       "error                    6.936633e+01\n",
       "reached.threshold        9.884887e-03\n",
       "steps                    7.870000e+03\n",
       "Intercept.to.1layhid1    1.458193e+00\n",
       "age.to.1layhid1          6.167111e+01\n",
       "trestbps.to.1layhid1    -4.590607e+01\n",
       "chol.to.1layhid1         1.362008e+01\n",
       "thalach.to.1layhid1      7.970114e+01\n",
       "oldpeak.to.1layhid1     -2.232416e+00\n",
       "cp1.to.1layhid1         -2.896019e+01\n",
       "fbs1.to.1layhid1         1.125713e+01\n",
       "restecg1.to.1layhid1    -3.159353e+00\n",
       "slope1.to.1layhid1      -1.485637e+01\n",
       "slope2.to.1layhid1      -1.390762e+01\n",
       "ca1.to.1layhid1         -1.685282e+01\n",
       "ca2.to.1layhid1         -5.981217e+01\n",
       "ca3.to.1layhid1         -2.108256e+01\n",
       "thal1.to.1layhid1       -1.770853e+01\n",
       "thal2.to.1layhid1       -3.419824e+01\n",
       "Intercept.to.condition1  3.086281e+00\n",
       "1layhid1.to.condition1  -5.034806e+00"
      ]
     },
     "metadata": {},
     "output_type": "display_data"
    }
   ],
   "source": [
    "#one-hot\n",
    "train_dummy <- model.matrix(~ sex + cp + fbs + restecg + slope + ca + thal + condition, train_2)[,-1]\n",
    "head(train_dummy)\n",
    "train_cbind <- cbind(train_2, train_dummy)\n",
    "set.seed(5)\n",
    "str(train_cbind)\n",
    "train_cbind <- train_cbind[,c(-2,-3,-6,-7,-9,-11:-15)]\n",
    "str(train_cbind)\n",
    "\n",
    "fit.nn <- neuralnet(condition1 ~., data = train_cbind,\n",
    "                 linear.output = FALSE, err.fct = \"ce\")\n",
    "\n",
    "fit.nn$result.matrix"
   ]
  },
  {
   "cell_type": "code",
   "execution_count": 27,
   "id": "e84de830-5b69-44f3-9263-ce149f3521de",
   "metadata": {},
   "outputs": [],
   "source": [
    "set.seed(5)\n",
    "# 2-Hidden Layers: Layer-1 2-neurons, Layer-2, 1-neuron\n",
    "fit.nn.21 <- neuralnet(condition1 ~.,\n",
    "                     data = train_cbind, \n",
    "                     linear.output = FALSE, \n",
    "                     err.fct = 'ce', \n",
    "                     hidden = c(2,1))"
   ]
  },
  {
   "cell_type": "code",
   "execution_count": 28,
   "id": "dae580f3-b1e7-481a-b8ba-bda02628632b",
   "metadata": {},
   "outputs": [],
   "source": [
    "# 2-Hidden Layers: Layer-1 3-neurons, Layer-2, 1-neuron\n",
    "fit.nn.31 <- neuralnet(condition1 ~.,\n",
    "                     data = train_cbind, \n",
    "                     linear.output = FALSE, \n",
    "                     err.fct = 'ce', \n",
    "                     hidden = c(3,1))"
   ]
  },
  {
   "cell_type": "code",
   "execution_count": 35,
   "id": "bc1d9a55-ab8d-4530-81aa-018571b36c75",
   "metadata": {},
   "outputs": [],
   "source": [
    "# 2-Hidden Layers: Layer-1 3-neurons, Layer-2, 2-neuron\n",
    "fit.nn.32 <- neuralnet(condition1 ~.,\n",
    "                     data = train_cbind, \n",
    "                     linear.output = FALSE, \n",
    "                     err.fct = 'ce', \n",
    "                     hidden = c(3,2))"
   ]
  },
  {
   "cell_type": "code",
   "execution_count": 36,
   "id": "11164dcf-7da0-4b0e-bdfc-fcd0d3079d6f",
   "metadata": {},
   "outputs": [],
   "source": [
    "# 2-Hidden Layers: Layer-1 4-neurons, Layer-2, 1-neuron\n",
    "fit.nn.41 <- neuralnet(condition1 ~.,\n",
    "                     data = train_cbind, \n",
    "                     linear.output = FALSE, \n",
    "                     err.fct = 'ce', \n",
    "                     hidden = c(4,1))"
   ]
  },
  {
   "cell_type": "code",
   "execution_count": 38,
   "id": "7e6be3d5-8275-4b7d-81c1-647bcb9ce12b",
   "metadata": {},
   "outputs": [],
   "source": [
    "# 2-Hidden Layers: Layer-1 5-neurons, Layer-2, 1-neuron\n",
    "fit.nn.51 <- neuralnet(condition1 ~.,\n",
    "                     data = train_cbind, \n",
    "                     linear.output = FALSE, \n",
    "                     err.fct = 'ce', \n",
    "                     hidden = c(5,1))"
   ]
  },
  {
   "cell_type": "code",
   "execution_count": 39,
   "id": "7e4676db-c985-4cac-bf2d-fa5ec3f072de",
   "metadata": {},
   "outputs": [],
   "source": [
    "# 2-Hidden Layers: Layer-1 6-neurons, Layer-2, 1-neuron\n",
    "fit.nn.61 <- neuralnet(condition1 ~.,\n",
    "                     data = train_cbind, \n",
    "                     linear.output = FALSE, \n",
    "                     err.fct = 'ce', \n",
    "                     hidden = c(6,1))"
   ]
  },
  {
   "cell_type": "code",
   "execution_count": 41,
   "id": "63d78d55-a0d2-47af-988e-e4b011fb77c6",
   "metadata": {},
   "outputs": [],
   "source": [
    "# 2-Hidden Layers: Layer-1 5-neurons, Layer-2, 2-neuron\n",
    "fit.nn.52 <- neuralnet(condition1 ~.,\n",
    "                     data = train_cbind, \n",
    "                     linear.output = FALSE, \n",
    "                     err.fct = 'ce', \n",
    "                     hidden = c(5,2))"
   ]
  },
  {
   "cell_type": "code",
   "execution_count": 44,
   "id": "b75bafbb-7986-452a-882d-095d0f2a99c7",
   "metadata": {},
   "outputs": [],
   "source": [
    "# 2-Hidden Layers: Layer-1 5-neurons, Layer-2, 3-neuron\n",
    "fit.nn.53 <- neuralnet(condition1 ~.,\n",
    "                     data = train_cbind, \n",
    "                     linear.output = FALSE, \n",
    "                     err.fct = 'ce', \n",
    "                     hidden = c(5,3))"
   ]
  },
  {
   "cell_type": "code",
   "execution_count": 29,
   "id": "78f1194f-2c19-454c-b931-d6a58fedba30",
   "metadata": {},
   "outputs": [
    {
     "name": "stderr",
     "output_type": "stream",
     "text": [
      "Warning message:\n",
      "“Algorithm did not converge in 1 of 1 repetition(s) within the stepmax.”\n"
     ]
    }
   ],
   "source": [
    "# 2-Hidden Layers: Layer-1 1-neurons, Layer-2, 3-neuron\n",
    "fit.nn.13 <- neuralnet(condition1 ~.,\n",
    "                     data = train_cbind, \n",
    "                     linear.output = FALSE, \n",
    "                     err.fct = 'ce', \n",
    "                     hidden = c(1,3))"
   ]
  },
  {
   "cell_type": "code",
   "execution_count": 30,
   "id": "1fe27265-4d64-44b5-ad01-63b78214ca31",
   "metadata": {},
   "outputs": [],
   "source": [
    "# 3-Hidden Layers: Layer-1 2-neurons, Layer-2, 1-neuron, Layer-3, 1-neuron\n",
    "fit.nn.211 <- neuralnet(condition1 ~.,\n",
    "                     data = train_cbind, \n",
    "                     linear.output = FALSE, \n",
    "                     err.fct = 'ce', \n",
    "                     hidden = c(2,1,1))"
   ]
  },
  {
   "cell_type": "code",
   "execution_count": 31,
   "id": "5ba37786-fc90-402b-8648-7374242f8c97",
   "metadata": {},
   "outputs": [],
   "source": [
    "# 3-Hidden Layers: Layer-1 2-neurons, Layer-2, 1-neuron, Layer-3, 2-neuron\n",
    "fit.nn.212 <- neuralnet(condition1 ~.,\n",
    "                     data = train_cbind, \n",
    "                     linear.output = FALSE, \n",
    "                     err.fct = 'ce', \n",
    "                     hidden = c(2,1,2))"
   ]
  },
  {
   "cell_type": "code",
   "execution_count": 32,
   "id": "7334ff9f-739b-4f11-9ea0-4d9b54fb7fcd",
   "metadata": {},
   "outputs": [],
   "source": [
    "# 4-Hidden Layers: Layer-1 2-neurons, Layer-2, 1-neuron, Layer-3, 1-neuron, Layer-4, 1-neuron\n",
    "fit.nn.2111 <- neuralnet(condition1 ~.,\n",
    "                     data = train_cbind, \n",
    "                     linear.output = FALSE, \n",
    "                     err.fct = 'ce', \n",
    "                     hidden = c(2,1,1,1))"
   ]
  },
  {
   "cell_type": "code",
   "execution_count": 33,
   "id": "5c3eda90-7eec-4192-ae93-884c4bec8e09",
   "metadata": {},
   "outputs": [],
   "source": [
    "# 2-Hidden Layers, Layer-1 2-neurons, Layer-2, 2-neurons\n",
    "fit.nn.22 <- neuralnet(condition1 ~., \n",
    "                                data = train_cbind, \n",
    "                                linear.output = FALSE, \n",
    "                                err.fct = 'ce', \n",
    "                                hidden = c(2,2))"
   ]
  },
  {
   "cell_type": "code",
   "execution_count": 42,
   "id": "61cce166-6ee4-4ccd-93a2-a3e8374cf834",
   "metadata": {},
   "outputs": [
    {
     "data": {
      "text/html": [
       "'Error with 2-Hidden Layers: Layer-1 2-neurons, Layer-2, 1-neuron is: 55.7314950087805'"
      ],
      "text/latex": [
       "'Error with 2-Hidden Layers: Layer-1 2-neurons, Layer-2, 1-neuron is: 55.7314950087805'"
      ],
      "text/markdown": [
       "'Error with 2-Hidden Layers: Layer-1 2-neurons, Layer-2, 1-neuron is: 55.7314950087805'"
      ],
      "text/plain": [
       "[1] \"Error with 2-Hidden Layers: Layer-1 2-neurons, Layer-2, 1-neuron is: 55.7314950087805\""
      ]
     },
     "metadata": {},
     "output_type": "display_data"
    },
    {
     "data": {
      "text/html": [
       "'Error with 2-Hidden Layers: Layer-1 3-neurons, Layer-2, 1-neuron is: 36.8852752172569'"
      ],
      "text/latex": [
       "'Error with 2-Hidden Layers: Layer-1 3-neurons, Layer-2, 1-neuron is: 36.8852752172569'"
      ],
      "text/markdown": [
       "'Error with 2-Hidden Layers: Layer-1 3-neurons, Layer-2, 1-neuron is: 36.8852752172569'"
      ],
      "text/plain": [
       "[1] \"Error with 2-Hidden Layers: Layer-1 3-neurons, Layer-2, 1-neuron is: 36.8852752172569\""
      ]
     },
     "metadata": {},
     "output_type": "display_data"
    },
    {
     "data": {
      "text/html": [
       "'Error with 2-Hidden Layers: Layer-1 3-neurons, Layer-2, 2-neurons is: 26.672052928042'"
      ],
      "text/latex": [
       "'Error with 2-Hidden Layers: Layer-1 3-neurons, Layer-2, 2-neurons is: 26.672052928042'"
      ],
      "text/markdown": [
       "'Error with 2-Hidden Layers: Layer-1 3-neurons, Layer-2, 2-neurons is: 26.672052928042'"
      ],
      "text/plain": [
       "[1] \"Error with 2-Hidden Layers: Layer-1 3-neurons, Layer-2, 2-neurons is: 26.672052928042\""
      ]
     },
     "metadata": {},
     "output_type": "display_data"
    },
    {
     "data": {
      "text/html": [
       "'Error with 2-Hidden Layers: Layer-1 4-neurons, Layer-2, 1-neuron is: 20.8956645250366'"
      ],
      "text/latex": [
       "'Error with 2-Hidden Layers: Layer-1 4-neurons, Layer-2, 1-neuron is: 20.8956645250366'"
      ],
      "text/markdown": [
       "'Error with 2-Hidden Layers: Layer-1 4-neurons, Layer-2, 1-neuron is: 20.8956645250366'"
      ],
      "text/plain": [
       "[1] \"Error with 2-Hidden Layers: Layer-1 4-neurons, Layer-2, 1-neuron is: 20.8956645250366\""
      ]
     },
     "metadata": {},
     "output_type": "display_data"
    },
    {
     "data": {
      "text/html": [
       "'Error with 2-Hidden Layers: Layer-1 5-neurons, Layer-2, 1-neuron is: 15.9920068974659'"
      ],
      "text/latex": [
       "'Error with 2-Hidden Layers: Layer-1 5-neurons, Layer-2, 1-neuron is: 15.9920068974659'"
      ],
      "text/markdown": [
       "'Error with 2-Hidden Layers: Layer-1 5-neurons, Layer-2, 1-neuron is: 15.9920068974659'"
      ],
      "text/plain": [
       "[1] \"Error with 2-Hidden Layers: Layer-1 5-neurons, Layer-2, 1-neuron is: 15.9920068974659\""
      ]
     },
     "metadata": {},
     "output_type": "display_data"
    },
    {
     "data": {
      "text/html": [
       "'Error with 2-Hidden Layers: Layer-1 6-neurons, Layer-2, 1-neuron is: 44.1199185696359'"
      ],
      "text/latex": [
       "'Error with 2-Hidden Layers: Layer-1 6-neurons, Layer-2, 1-neuron is: 44.1199185696359'"
      ],
      "text/markdown": [
       "'Error with 2-Hidden Layers: Layer-1 6-neurons, Layer-2, 1-neuron is: 44.1199185696359'"
      ],
      "text/plain": [
       "[1] \"Error with 2-Hidden Layers: Layer-1 6-neurons, Layer-2, 1-neuron is: 44.1199185696359\""
      ]
     },
     "metadata": {},
     "output_type": "display_data"
    },
    {
     "data": {
      "text/html": [
       "'Error with 2-Hidden Layers: Layer-1 5-neurons, Layer-2, 2-neurons is: 0.0158585180378007'"
      ],
      "text/latex": [
       "'Error with 2-Hidden Layers: Layer-1 5-neurons, Layer-2, 2-neurons is: 0.0158585180378007'"
      ],
      "text/markdown": [
       "'Error with 2-Hidden Layers: Layer-1 5-neurons, Layer-2, 2-neurons is: 0.0158585180378007'"
      ],
      "text/plain": [
       "[1] \"Error with 2-Hidden Layers: Layer-1 5-neurons, Layer-2, 2-neurons is: 0.0158585180378007\""
      ]
     },
     "metadata": {},
     "output_type": "display_data"
    },
    {
     "data": {
      "text/html": [
       "'Error with 2-Hidden Layers: Layer-1 1-neuron, Layer-2, 3-neurons is: '"
      ],
      "text/latex": [
       "'Error with 2-Hidden Layers: Layer-1 1-neuron, Layer-2, 3-neurons is: '"
      ],
      "text/markdown": [
       "'Error with 2-Hidden Layers: Layer-1 1-neuron, Layer-2, 3-neurons is: '"
      ],
      "text/plain": [
       "[1] \"Error with 2-Hidden Layers: Layer-1 1-neuron, Layer-2, 3-neurons is: \""
      ]
     },
     "metadata": {},
     "output_type": "display_data"
    },
    {
     "data": {
      "text/html": [
       "'Error with 3-Hidden Layers: Layer-1 2-neurons, Layer-2, 1-neuron, Layer-3, 1-neuron is: 51.9630446980057'"
      ],
      "text/latex": [
       "'Error with 3-Hidden Layers: Layer-1 2-neurons, Layer-2, 1-neuron, Layer-3, 1-neuron is: 51.9630446980057'"
      ],
      "text/markdown": [
       "'Error with 3-Hidden Layers: Layer-1 2-neurons, Layer-2, 1-neuron, Layer-3, 1-neuron is: 51.9630446980057'"
      ],
      "text/plain": [
       "[1] \"Error with 3-Hidden Layers: Layer-1 2-neurons, Layer-2, 1-neuron, Layer-3, 1-neuron is: 51.9630446980057\""
      ]
     },
     "metadata": {},
     "output_type": "display_data"
    },
    {
     "data": {
      "text/html": [
       "'Error with 3-Hidden Layers: Layer-1 2-neurons, Layer-2, 1-neuron, Layer-3, 2-neurons is: 67.3967204048539'"
      ],
      "text/latex": [
       "'Error with 3-Hidden Layers: Layer-1 2-neurons, Layer-2, 1-neuron, Layer-3, 2-neurons is: 67.3967204048539'"
      ],
      "text/markdown": [
       "'Error with 3-Hidden Layers: Layer-1 2-neurons, Layer-2, 1-neuron, Layer-3, 2-neurons is: 67.3967204048539'"
      ],
      "text/plain": [
       "[1] \"Error with 3-Hidden Layers: Layer-1 2-neurons, Layer-2, 1-neuron, Layer-3, 2-neurons is: 67.3967204048539\""
      ]
     },
     "metadata": {},
     "output_type": "display_data"
    },
    {
     "data": {
      "text/html": [
       "'Error with 4-Hidden Layers: Layer-1 2-neurons, Layer-2, 1-neuron, Layer-3, 1-neuron, Layer-4, 1-neuron is: 70.3955253852198'"
      ],
      "text/latex": [
       "'Error with 4-Hidden Layers: Layer-1 2-neurons, Layer-2, 1-neuron, Layer-3, 1-neuron, Layer-4, 1-neuron is: 70.3955253852198'"
      ],
      "text/markdown": [
       "'Error with 4-Hidden Layers: Layer-1 2-neurons, Layer-2, 1-neuron, Layer-3, 1-neuron, Layer-4, 1-neuron is: 70.3955253852198'"
      ],
      "text/plain": [
       "[1] \"Error with 4-Hidden Layers: Layer-1 2-neurons, Layer-2, 1-neuron, Layer-3, 1-neuron, Layer-4, 1-neuron is: 70.3955253852198\""
      ]
     },
     "metadata": {},
     "output_type": "display_data"
    },
    {
     "data": {
      "text/html": [
       "'Error with 2-Hidden Layers, Layer-1 2-neurons, Layer-2, 2-neurons is: 48.2799366235978'"
      ],
      "text/latex": [
       "'Error with 2-Hidden Layers, Layer-1 2-neurons, Layer-2, 2-neurons is: 48.2799366235978'"
      ],
      "text/markdown": [
       "'Error with 2-Hidden Layers, Layer-1 2-neurons, Layer-2, 2-neurons is: 48.2799366235978'"
      ],
      "text/plain": [
       "[1] \"Error with 2-Hidden Layers, Layer-1 2-neurons, Layer-2, 2-neurons is: 48.2799366235978\""
      ]
     },
     "metadata": {},
     "output_type": "display_data"
    },
    {
     "data": {
      "text/html": [
       "'Error with 2-Hidden Layers, Layer-1 1-neuron, Layer-2, 2-neurons is: 63.1301319251313'"
      ],
      "text/latex": [
       "'Error with 2-Hidden Layers, Layer-1 1-neuron, Layer-2, 2-neurons is: 63.1301319251313'"
      ],
      "text/markdown": [
       "'Error with 2-Hidden Layers, Layer-1 1-neuron, Layer-2, 2-neurons is: 63.1301319251313'"
      ],
      "text/plain": [
       "[1] \"Error with 2-Hidden Layers, Layer-1 1-neuron, Layer-2, 2-neurons is: 63.1301319251313\""
      ]
     },
     "metadata": {},
     "output_type": "display_data"
    }
   ],
   "source": [
    "# 2-Hidden Layers, Layer-1 1-neuron, Layer-2, 2-neuron\n",
    "fit.nn.12 <- neuralnet(condition1 ~ ., \n",
    "                                data = train_cbind, \n",
    "                                linear.output = FALSE, \n",
    "                                err.fct = 'ce',\n",
    "                                hidden = c(1,2))"
   ]
  },
  {
   "cell_type": "code",
   "execution_count": 45,
   "id": "9ee98834-db95-49e1-b4f4-9abb3d01c627",
   "metadata": {},
   "outputs": [
    {
     "data": {
      "text/html": [
       "'Error with 2-Hidden Layers: Layer-1 2-neurons, Layer-2, 1-neuron is: 55.7314950087805'"
      ],
      "text/latex": [
       "'Error with 2-Hidden Layers: Layer-1 2-neurons, Layer-2, 1-neuron is: 55.7314950087805'"
      ],
      "text/markdown": [
       "'Error with 2-Hidden Layers: Layer-1 2-neurons, Layer-2, 1-neuron is: 55.7314950087805'"
      ],
      "text/plain": [
       "[1] \"Error with 2-Hidden Layers: Layer-1 2-neurons, Layer-2, 1-neuron is: 55.7314950087805\""
      ]
     },
     "metadata": {},
     "output_type": "display_data"
    },
    {
     "data": {
      "text/html": [
       "'Error with 2-Hidden Layers: Layer-1 3-neurons, Layer-2, 1-neuron is: 36.8852752172569'"
      ],
      "text/latex": [
       "'Error with 2-Hidden Layers: Layer-1 3-neurons, Layer-2, 1-neuron is: 36.8852752172569'"
      ],
      "text/markdown": [
       "'Error with 2-Hidden Layers: Layer-1 3-neurons, Layer-2, 1-neuron is: 36.8852752172569'"
      ],
      "text/plain": [
       "[1] \"Error with 2-Hidden Layers: Layer-1 3-neurons, Layer-2, 1-neuron is: 36.8852752172569\""
      ]
     },
     "metadata": {},
     "output_type": "display_data"
    },
    {
     "data": {
      "text/html": [
       "'Error with 2-Hidden Layers: Layer-1 3-neurons, Layer-2, 2-neurons is: 26.672052928042'"
      ],
      "text/latex": [
       "'Error with 2-Hidden Layers: Layer-1 3-neurons, Layer-2, 2-neurons is: 26.672052928042'"
      ],
      "text/markdown": [
       "'Error with 2-Hidden Layers: Layer-1 3-neurons, Layer-2, 2-neurons is: 26.672052928042'"
      ],
      "text/plain": [
       "[1] \"Error with 2-Hidden Layers: Layer-1 3-neurons, Layer-2, 2-neurons is: 26.672052928042\""
      ]
     },
     "metadata": {},
     "output_type": "display_data"
    },
    {
     "data": {
      "text/html": [
       "'Error with 2-Hidden Layers: Layer-1 4-neurons, Layer-2, 1-neuron is: 20.8956645250366'"
      ],
      "text/latex": [
       "'Error with 2-Hidden Layers: Layer-1 4-neurons, Layer-2, 1-neuron is: 20.8956645250366'"
      ],
      "text/markdown": [
       "'Error with 2-Hidden Layers: Layer-1 4-neurons, Layer-2, 1-neuron is: 20.8956645250366'"
      ],
      "text/plain": [
       "[1] \"Error with 2-Hidden Layers: Layer-1 4-neurons, Layer-2, 1-neuron is: 20.8956645250366\""
      ]
     },
     "metadata": {},
     "output_type": "display_data"
    },
    {
     "data": {
      "text/html": [
       "'Error with 2-Hidden Layers: Layer-1 5-neurons, Layer-2, 1-neuron is: 15.9920068974659'"
      ],
      "text/latex": [
       "'Error with 2-Hidden Layers: Layer-1 5-neurons, Layer-2, 1-neuron is: 15.9920068974659'"
      ],
      "text/markdown": [
       "'Error with 2-Hidden Layers: Layer-1 5-neurons, Layer-2, 1-neuron is: 15.9920068974659'"
      ],
      "text/plain": [
       "[1] \"Error with 2-Hidden Layers: Layer-1 5-neurons, Layer-2, 1-neuron is: 15.9920068974659\""
      ]
     },
     "metadata": {},
     "output_type": "display_data"
    },
    {
     "data": {
      "text/html": [
       "'Error with 2-Hidden Layers: Layer-1 6-neurons, Layer-2, 1-neuron is: 44.1199185696359'"
      ],
      "text/latex": [
       "'Error with 2-Hidden Layers: Layer-1 6-neurons, Layer-2, 1-neuron is: 44.1199185696359'"
      ],
      "text/markdown": [
       "'Error with 2-Hidden Layers: Layer-1 6-neurons, Layer-2, 1-neuron is: 44.1199185696359'"
      ],
      "text/plain": [
       "[1] \"Error with 2-Hidden Layers: Layer-1 6-neurons, Layer-2, 1-neuron is: 44.1199185696359\""
      ]
     },
     "metadata": {},
     "output_type": "display_data"
    },
    {
     "data": {
      "text/html": [
       "'Error with 2-Hidden Layers: Layer-1 5-neurons, Layer-2, 2-neurons is: 0.0158585180378007'"
      ],
      "text/latex": [
       "'Error with 2-Hidden Layers: Layer-1 5-neurons, Layer-2, 2-neurons is: 0.0158585180378007'"
      ],
      "text/markdown": [
       "'Error with 2-Hidden Layers: Layer-1 5-neurons, Layer-2, 2-neurons is: 0.0158585180378007'"
      ],
      "text/plain": [
       "[1] \"Error with 2-Hidden Layers: Layer-1 5-neurons, Layer-2, 2-neurons is: 0.0158585180378007\""
      ]
     },
     "metadata": {},
     "output_type": "display_data"
    },
    {
     "data": {
      "text/html": [
       "'Error with 2-Hidden Layers: Layer-1 5-neurons, Layer-2, 3-neurons is: 23.9668760956435'"
      ],
      "text/latex": [
       "'Error with 2-Hidden Layers: Layer-1 5-neurons, Layer-2, 3-neurons is: 23.9668760956435'"
      ],
      "text/markdown": [
       "'Error with 2-Hidden Layers: Layer-1 5-neurons, Layer-2, 3-neurons is: 23.9668760956435'"
      ],
      "text/plain": [
       "[1] \"Error with 2-Hidden Layers: Layer-1 5-neurons, Layer-2, 3-neurons is: 23.9668760956435\""
      ]
     },
     "metadata": {},
     "output_type": "display_data"
    },
    {
     "data": {
      "text/html": [
       "'Error with 2-Hidden Layers: Layer-1 1-neuron, Layer-2, 3-neurons is: '"
      ],
      "text/latex": [
       "'Error with 2-Hidden Layers: Layer-1 1-neuron, Layer-2, 3-neurons is: '"
      ],
      "text/markdown": [
       "'Error with 2-Hidden Layers: Layer-1 1-neuron, Layer-2, 3-neurons is: '"
      ],
      "text/plain": [
       "[1] \"Error with 2-Hidden Layers: Layer-1 1-neuron, Layer-2, 3-neurons is: \""
      ]
     },
     "metadata": {},
     "output_type": "display_data"
    },
    {
     "data": {
      "text/html": [
       "'Error with 3-Hidden Layers: Layer-1 2-neurons, Layer-2, 1-neuron, Layer-3, 1-neuron is: 51.9630446980057'"
      ],
      "text/latex": [
       "'Error with 3-Hidden Layers: Layer-1 2-neurons, Layer-2, 1-neuron, Layer-3, 1-neuron is: 51.9630446980057'"
      ],
      "text/markdown": [
       "'Error with 3-Hidden Layers: Layer-1 2-neurons, Layer-2, 1-neuron, Layer-3, 1-neuron is: 51.9630446980057'"
      ],
      "text/plain": [
       "[1] \"Error with 3-Hidden Layers: Layer-1 2-neurons, Layer-2, 1-neuron, Layer-3, 1-neuron is: 51.9630446980057\""
      ]
     },
     "metadata": {},
     "output_type": "display_data"
    },
    {
     "data": {
      "text/html": [
       "'Error with 3-Hidden Layers: Layer-1 2-neurons, Layer-2, 1-neuron, Layer-3, 2-neurons is: 67.3967204048539'"
      ],
      "text/latex": [
       "'Error with 3-Hidden Layers: Layer-1 2-neurons, Layer-2, 1-neuron, Layer-3, 2-neurons is: 67.3967204048539'"
      ],
      "text/markdown": [
       "'Error with 3-Hidden Layers: Layer-1 2-neurons, Layer-2, 1-neuron, Layer-3, 2-neurons is: 67.3967204048539'"
      ],
      "text/plain": [
       "[1] \"Error with 3-Hidden Layers: Layer-1 2-neurons, Layer-2, 1-neuron, Layer-3, 2-neurons is: 67.3967204048539\""
      ]
     },
     "metadata": {},
     "output_type": "display_data"
    },
    {
     "data": {
      "text/html": [
       "'Error with 4-Hidden Layers: Layer-1 2-neurons, Layer-2, 1-neuron, Layer-3, 1-neuron, Layer-4, 1-neuron is: 70.3955253852198'"
      ],
      "text/latex": [
       "'Error with 4-Hidden Layers: Layer-1 2-neurons, Layer-2, 1-neuron, Layer-3, 1-neuron, Layer-4, 1-neuron is: 70.3955253852198'"
      ],
      "text/markdown": [
       "'Error with 4-Hidden Layers: Layer-1 2-neurons, Layer-2, 1-neuron, Layer-3, 1-neuron, Layer-4, 1-neuron is: 70.3955253852198'"
      ],
      "text/plain": [
       "[1] \"Error with 4-Hidden Layers: Layer-1 2-neurons, Layer-2, 1-neuron, Layer-3, 1-neuron, Layer-4, 1-neuron is: 70.3955253852198\""
      ]
     },
     "metadata": {},
     "output_type": "display_data"
    },
    {
     "data": {
      "text/html": [
       "'Error with 2-Hidden Layers, Layer-1 2-neurons, Layer-2, 2-neurons is: 48.2799366235978'"
      ],
      "text/latex": [
       "'Error with 2-Hidden Layers, Layer-1 2-neurons, Layer-2, 2-neurons is: 48.2799366235978'"
      ],
      "text/markdown": [
       "'Error with 2-Hidden Layers, Layer-1 2-neurons, Layer-2, 2-neurons is: 48.2799366235978'"
      ],
      "text/plain": [
       "[1] \"Error with 2-Hidden Layers, Layer-1 2-neurons, Layer-2, 2-neurons is: 48.2799366235978\""
      ]
     },
     "metadata": {},
     "output_type": "display_data"
    },
    {
     "data": {
      "text/html": [
       "'Error with 2-Hidden Layers, Layer-1 1-neuron, Layer-2, 2-neurons is: 63.1301319251313'"
      ],
      "text/latex": [
       "'Error with 2-Hidden Layers, Layer-1 1-neuron, Layer-2, 2-neurons is: 63.1301319251313'"
      ],
      "text/markdown": [
       "'Error with 2-Hidden Layers, Layer-1 1-neuron, Layer-2, 2-neurons is: 63.1301319251313'"
      ],
      "text/plain": [
       "[1] \"Error with 2-Hidden Layers, Layer-1 1-neuron, Layer-2, 2-neurons is: 63.1301319251313\""
      ]
     },
     "metadata": {},
     "output_type": "display_data"
    }
   ],
   "source": [
    "paste(\"Error with 2-Hidden Layers: Layer-1 2-neurons, Layer-2, 1-neuron is:\",  fit.nn.21$result.matrix[1,1])\n",
    "paste(\"Error with 2-Hidden Layers: Layer-1 3-neurons, Layer-2, 1-neuron is:\",  fit.nn.31$result.matrix[1,1])\n",
    "paste(\"Error with 2-Hidden Layers: Layer-1 3-neurons, Layer-2, 2-neurons is:\",  fit.nn.32$result.matrix[1,1])\n",
    "paste(\"Error with 2-Hidden Layers: Layer-1 4-neurons, Layer-2, 1-neuron is:\",  fit.nn.41$result.matrix[1,1])\n",
    "paste(\"Error with 2-Hidden Layers: Layer-1 5-neurons, Layer-2, 1-neuron is:\",  fit.nn.51$result.matrix[1,1])\n",
    "paste(\"Error with 2-Hidden Layers: Layer-1 6-neurons, Layer-2, 1-neuron is:\",  fit.nn.61$result.matrix[1,1])\n",
    "paste(\"Error with 2-Hidden Layers: Layer-1 5-neurons, Layer-2, 2-neurons is:\",  fit.nn.52$result.matrix[1,1])\n",
    "paste(\"Error with 2-Hidden Layers: Layer-1 5-neurons, Layer-2, 3-neurons is:\",  fit.nn.53$result.matrix[1,1])\n",
    "paste(\"Error with 2-Hidden Layers: Layer-1 1-neuron, Layer-2, 3-neurons is:\",  fit.nn.13$result.matrix[1,1])\n",
    "paste(\"Error with 3-Hidden Layers: Layer-1 2-neurons, Layer-2, 1-neuron, Layer-3, 1-neuron is:\",  fit.nn.211$result.matrix[1,1])\n",
    "paste(\"Error with 3-Hidden Layers: Layer-1 2-neurons, Layer-2, 1-neuron, Layer-3, 2-neurons is:\",  fit.nn.212$result.matrix[1,1])\n",
    "paste(\"Error with 4-Hidden Layers: Layer-1 2-neurons, Layer-2, 1-neuron, Layer-3, 1-neuron, Layer-4, 1-neuron is:\",  fit.nn.2111$result.matrix[1,1])\n",
    "paste(\"Error with 2-Hidden Layers, Layer-1 2-neurons, Layer-2, 2-neurons is:\", fit.nn.22$result.matrix[1,1])\n",
    "paste(\"Error with 2-Hidden Layers, Layer-1 1-neuron, Layer-2, 2-neurons is:\", fit.nn.12$result.matrix[1,1])"
   ]
  },
  {
   "cell_type": "code",
   "execution_count": 47,
   "id": "1a84ec5d-f611-4ce3-8f8f-f0feac5c61f1",
   "metadata": {},
   "outputs": [
    {
     "data": {
      "text/html": [
       "<table class=\"dataframe\">\n",
       "<caption>A matrix: 6 × 12 of type dbl</caption>\n",
       "<thead>\n",
       "\t<tr><th></th><th scope=col>sex1</th><th scope=col>cp1</th><th scope=col>fbs1</th><th scope=col>restecg1</th><th scope=col>slope1</th><th scope=col>slope2</th><th scope=col>ca1</th><th scope=col>ca2</th><th scope=col>ca3</th><th scope=col>thal1</th><th scope=col>thal2</th><th scope=col>condition1</th></tr>\n",
       "</thead>\n",
       "<tbody>\n",
       "\t<tr><th scope=row>1</th><td>1</td><td>0</td><td>0</td><td>1</td><td>0</td><td>0</td><td>0</td><td>0</td><td>0</td><td>0</td><td>0</td><td>0</td></tr>\n",
       "\t<tr><th scope=row>2</th><td>0</td><td>0</td><td>0</td><td>0</td><td>0</td><td>0</td><td>0</td><td>0</td><td>0</td><td>0</td><td>0</td><td>0</td></tr>\n",
       "\t<tr><th scope=row>3</th><td>0</td><td>1</td><td>0</td><td>0</td><td>1</td><td>0</td><td>0</td><td>0</td><td>0</td><td>0</td><td>0</td><td>0</td></tr>\n",
       "\t<tr><th scope=row>4</th><td>0</td><td>1</td><td>0</td><td>1</td><td>0</td><td>1</td><td>0</td><td>0</td><td>1</td><td>0</td><td>1</td><td>1</td></tr>\n",
       "\t<tr><th scope=row>5</th><td>1</td><td>0</td><td>0</td><td>1</td><td>0</td><td>1</td><td>0</td><td>0</td><td>0</td><td>0</td><td>1</td><td>0</td></tr>\n",
       "\t<tr><th scope=row>6</th><td>0</td><td>1</td><td>0</td><td>0</td><td>1</td><td>0</td><td>0</td><td>0</td><td>0</td><td>0</td><td>0</td><td>0</td></tr>\n",
       "</tbody>\n",
       "</table>\n"
      ],
      "text/latex": [
       "A matrix: 6 × 12 of type dbl\n",
       "\\begin{tabular}{r|llllllllllll}\n",
       "  & sex1 & cp1 & fbs1 & restecg1 & slope1 & slope2 & ca1 & ca2 & ca3 & thal1 & thal2 & condition1\\\\\n",
       "\\hline\n",
       "\t1 & 1 & 0 & 0 & 1 & 0 & 0 & 0 & 0 & 0 & 0 & 0 & 0\\\\\n",
       "\t2 & 0 & 0 & 0 & 0 & 0 & 0 & 0 & 0 & 0 & 0 & 0 & 0\\\\\n",
       "\t3 & 0 & 1 & 0 & 0 & 1 & 0 & 0 & 0 & 0 & 0 & 0 & 0\\\\\n",
       "\t4 & 0 & 1 & 0 & 1 & 0 & 1 & 0 & 0 & 1 & 0 & 1 & 1\\\\\n",
       "\t5 & 1 & 0 & 0 & 1 & 0 & 1 & 0 & 0 & 0 & 0 & 1 & 0\\\\\n",
       "\t6 & 0 & 1 & 0 & 0 & 1 & 0 & 0 & 0 & 0 & 0 & 0 & 0\\\\\n",
       "\\end{tabular}\n"
      ],
      "text/markdown": [
       "\n",
       "A matrix: 6 × 12 of type dbl\n",
       "\n",
       "| <!--/--> | sex1 | cp1 | fbs1 | restecg1 | slope1 | slope2 | ca1 | ca2 | ca3 | thal1 | thal2 | condition1 |\n",
       "|---|---|---|---|---|---|---|---|---|---|---|---|---|\n",
       "| 1 | 1 | 0 | 0 | 1 | 0 | 0 | 0 | 0 | 0 | 0 | 0 | 0 |\n",
       "| 2 | 0 | 0 | 0 | 0 | 0 | 0 | 0 | 0 | 0 | 0 | 0 | 0 |\n",
       "| 3 | 0 | 1 | 0 | 0 | 1 | 0 | 0 | 0 | 0 | 0 | 0 | 0 |\n",
       "| 4 | 0 | 1 | 0 | 1 | 0 | 1 | 0 | 0 | 1 | 0 | 1 | 1 |\n",
       "| 5 | 1 | 0 | 0 | 1 | 0 | 1 | 0 | 0 | 0 | 0 | 1 | 0 |\n",
       "| 6 | 0 | 1 | 0 | 0 | 1 | 0 | 0 | 0 | 0 | 0 | 0 | 0 |\n",
       "\n"
      ],
      "text/plain": [
       "  sex1 cp1 fbs1 restecg1 slope1 slope2 ca1 ca2 ca3 thal1 thal2 condition1\n",
       "1 1    0   0    1        0      0      0   0   0   0     0     0         \n",
       "2 0    0   0    0        0      0      0   0   0   0     0     0         \n",
       "3 0    1   0    0        1      0      0   0   0   0     0     0         \n",
       "4 0    1   0    1        0      1      0   0   1   0     1     1         \n",
       "5 1    0   0    1        0      1      0   0   0   0     1     0         \n",
       "6 0    1   0    0        1      0      0   0   0   0     0     0         "
      ]
     },
     "metadata": {},
     "output_type": "display_data"
    },
    {
     "name": "stdout",
     "output_type": "stream",
     "text": [
      "'data.frame':\t59 obs. of  26 variables:\n",
      " $ age       : num  0.238 0 0.214 0.667 0.595 ...\n",
      " $ sex       : Factor w/ 2 levels \"0\",\"1\": 2 1 1 1 2 1 2 2 2 2 ...\n",
      " $ cp        : Factor w/ 2 levels \"0\",\"1\": 1 1 2 2 1 2 2 2 1 2 ...\n",
      " $ trestbps  : num  0.419 0.279 0.326 0.767 0.977 ...\n",
      " $ chol      : num  0.3147 0.269 0.2843 0.0355 0.5736 ...\n",
      " $ fbs       : Factor w/ 2 levels \"0\",\"1\": 1 1 1 1 1 1 1 1 1 1 ...\n",
      " $ restecg   : Factor w/ 2 levels \"0\",\"1\": 2 1 1 2 2 1 1 1 1 2 ...\n",
      " $ thalach   : num  0.962 1 0.74 0.548 0.548 ...\n",
      " $ exang     : Factor w/ 2 levels \"0\",\"1\": 1 1 1 1 1 1 2 1 1 1 ...\n",
      " $ oldpeak   : num  0 0.7 0.2 6.2 4.2 0 2.8 0.5 0 0.4 ...\n",
      " $ slope     : Factor w/ 3 levels \"0\",\"1\",\"2\": 1 1 2 3 3 2 3 2 1 2 ...\n",
      " $ ca        : Factor w/ 4 levels \"0\",\"1\",\"2\",\"3\": 1 1 1 4 1 1 1 1 1 1 ...\n",
      " $ thal      : Factor w/ 3 levels \"0\",\"1\",\"2\": 1 1 1 3 3 1 2 3 1 1 ...\n",
      " $ condition : Factor w/ 2 levels \"0\",\"1\": 1 1 1 2 1 1 2 1 1 1 ...\n",
      " $ sex1      : num  1 0 0 0 1 0 1 1 1 1 ...\n",
      " $ cp1       : num  0 0 1 1 0 1 1 1 0 1 ...\n",
      " $ fbs1      : num  0 0 0 0 0 0 0 0 0 0 ...\n",
      " $ restecg1  : num  1 0 0 1 1 0 0 0 0 1 ...\n",
      " $ slope1    : num  0 0 1 0 0 1 0 1 0 1 ...\n",
      " $ slope2    : num  0 0 0 1 1 0 1 0 0 0 ...\n",
      " $ ca1       : num  0 0 0 0 0 0 0 0 0 0 ...\n",
      " $ ca2       : num  0 0 0 0 0 0 0 0 0 0 ...\n",
      " $ ca3       : num  0 0 0 1 0 0 0 0 0 0 ...\n",
      " $ thal1     : num  0 0 0 0 0 0 1 0 0 0 ...\n",
      " $ thal2     : num  0 0 0 1 1 0 0 1 0 0 ...\n",
      " $ condition1: num  0 0 0 1 0 0 1 0 0 0 ...\n",
      "'data.frame':\t59 obs. of  16 variables:\n",
      " $ age       : num  0.238 0 0.214 0.667 0.595 ...\n",
      " $ trestbps  : num  0.419 0.279 0.326 0.767 0.977 ...\n",
      " $ chol      : num  0.3147 0.269 0.2843 0.0355 0.5736 ...\n",
      " $ thalach   : num  0.962 1 0.74 0.548 0.548 ...\n",
      " $ oldpeak   : num  0 0.7 0.2 6.2 4.2 0 2.8 0.5 0 0.4 ...\n",
      " $ cp1       : num  0 0 1 1 0 1 1 1 0 1 ...\n",
      " $ fbs1      : num  0 0 0 0 0 0 0 0 0 0 ...\n",
      " $ restecg1  : num  1 0 0 1 1 0 0 0 0 1 ...\n",
      " $ slope1    : num  0 0 1 0 0 1 0 1 0 1 ...\n",
      " $ slope2    : num  0 0 0 1 1 0 1 0 0 0 ...\n",
      " $ ca1       : num  0 0 0 0 0 0 0 0 0 0 ...\n",
      " $ ca2       : num  0 0 0 0 0 0 0 0 0 0 ...\n",
      " $ ca3       : num  0 0 0 1 0 0 0 0 0 0 ...\n",
      " $ thal1     : num  0 0 0 0 0 0 1 0 0 0 ...\n",
      " $ thal2     : num  0 0 0 1 1 0 0 1 0 0 ...\n",
      " $ condition1: num  0 0 0 1 0 0 1 0 0 0 ...\n"
     ]
    }
   ],
   "source": [
    "vali_dummy <- model.matrix(~ sex + cp + fbs + restecg + slope + ca + thal + condition, vali_2)[,-1]\n",
    "head(vali_dummy)\n",
    "vali_cbind <- cbind(vali_2, vali_dummy)\n",
    "set.seed(5)\n",
    "str(vali_cbind)\n",
    "vali_cbind <- vali_cbind[,c(-2,-3,-6,-7,-9,-11:-15)]\n",
    "str(vali_cbind)"
   ]
  },
  {
   "cell_type": "code",
   "execution_count": 106,
   "id": "cf9055dc-4287-4736-b0e2-b578f50033de",
   "metadata": {
    "tags": []
   },
   "outputs": [
    {
     "data": {
      "text/html": [
       "0.898305084745763"
      ],
      "text/latex": [
       "0.898305084745763"
      ],
      "text/markdown": [
       "0.898305084745763"
      ],
      "text/plain": [
       "[1] 0.8983051"
      ]
     },
     "metadata": {},
     "output_type": "display_data"
    }
   ],
   "source": [
    "set.seed(5)\n",
    "fit.nn.52 <- neuralnet(condition1 ~.,\n",
    "                     data = train_cbind, \n",
    "                     linear.output = FALSE, \n",
    "                     err.fct = 'ce', \n",
    "                     hidden = c(5,2), \n",
    "                     likelihood = TRUE)\n",
    "\n",
    "predict.nn_52<- predict(fit.nn.52,vali_cbind)\n",
    "#Converting probabilities into binary classes setting threshold level 0.5\n",
    "predict.nn_52 <- ifelse(predict.nn_52>0.5, 1, 0)\n",
    "acc_vali_52 <- mean(predict.nn_52==vali_cbind$condition1)\n",
    "acc_vali_52"
   ]
  },
  {
   "cell_type": "code",
   "execution_count": 99,
   "id": "665df01c-2036-4e27-bf51-d54f53388985",
   "metadata": {},
   "outputs": [
    {
     "data": {
      "text/html": [
       "<style>\n",
       ".list-inline {list-style: none; margin:0; padding: 0}\n",
       ".list-inline>li {display: inline-block}\n",
       ".list-inline>li:not(:last-child)::after {content: \"\\00b7\"; padding: 0 .5ex}\n",
       "</style>\n",
       "<ol class=list-inline><li>0</li><li>0</li><li>0</li><li>1</li><li>1</li><li>1</li><li>1</li><li>1</li><li>0</li><li>0</li><li>0</li><li>0</li><li>0</li><li>1</li><li>1</li><li>0</li><li>1</li><li>0</li><li>0</li><li>0</li><li>0</li><li>0</li><li>0</li><li>1</li><li>1</li><li>0</li><li>1</li><li>0</li><li>1</li><li>0</li><li>0</li><li>1</li><li>0</li><li>1</li><li>0</li><li>1</li><li>0</li><li>0</li><li>1</li><li>1</li><li>0</li><li>0</li><li>1</li><li>1</li><li>0</li><li>0</li><li>1</li><li>0</li><li>0</li><li>0</li><li>1</li><li>0</li><li>0</li><li>0</li><li>0</li><li>1</li><li>1</li><li>0</li><li>1</li></ol>\n",
       "\n",
       "<details>\n",
       "\t<summary style=display:list-item;cursor:pointer>\n",
       "\t\t<strong>Levels</strong>:\n",
       "\t</summary>\n",
       "\t<style>\n",
       "\t.list-inline {list-style: none; margin:0; padding: 0}\n",
       "\t.list-inline>li {display: inline-block}\n",
       "\t.list-inline>li:not(:last-child)::after {content: \"\\00b7\"; padding: 0 .5ex}\n",
       "\t</style>\n",
       "\t<ol class=list-inline><li>'0'</li><li>'1'</li></ol>\n",
       "</details>"
      ],
      "text/latex": [
       "\\begin{enumerate*}\n",
       "\\item 0\n",
       "\\item 0\n",
       "\\item 0\n",
       "\\item 1\n",
       "\\item 1\n",
       "\\item 1\n",
       "\\item 1\n",
       "\\item 1\n",
       "\\item 0\n",
       "\\item 0\n",
       "\\item 0\n",
       "\\item 0\n",
       "\\item 0\n",
       "\\item 1\n",
       "\\item 1\n",
       "\\item 0\n",
       "\\item 1\n",
       "\\item 0\n",
       "\\item 0\n",
       "\\item 0\n",
       "\\item 0\n",
       "\\item 0\n",
       "\\item 0\n",
       "\\item 1\n",
       "\\item 1\n",
       "\\item 0\n",
       "\\item 1\n",
       "\\item 0\n",
       "\\item 1\n",
       "\\item 0\n",
       "\\item 0\n",
       "\\item 1\n",
       "\\item 0\n",
       "\\item 1\n",
       "\\item 0\n",
       "\\item 1\n",
       "\\item 0\n",
       "\\item 0\n",
       "\\item 1\n",
       "\\item 1\n",
       "\\item 0\n",
       "\\item 0\n",
       "\\item 1\n",
       "\\item 1\n",
       "\\item 0\n",
       "\\item 0\n",
       "\\item 1\n",
       "\\item 0\n",
       "\\item 0\n",
       "\\item 0\n",
       "\\item 1\n",
       "\\item 0\n",
       "\\item 0\n",
       "\\item 0\n",
       "\\item 0\n",
       "\\item 1\n",
       "\\item 1\n",
       "\\item 0\n",
       "\\item 1\n",
       "\\end{enumerate*}\n",
       "\n",
       "\\emph{Levels}: \\begin{enumerate*}\n",
       "\\item '0'\n",
       "\\item '1'\n",
       "\\end{enumerate*}\n"
      ],
      "text/markdown": [
       "1. 0\n",
       "2. 0\n",
       "3. 0\n",
       "4. 1\n",
       "5. 1\n",
       "6. 1\n",
       "7. 1\n",
       "8. 1\n",
       "9. 0\n",
       "10. 0\n",
       "11. 0\n",
       "12. 0\n",
       "13. 0\n",
       "14. 1\n",
       "15. 1\n",
       "16. 0\n",
       "17. 1\n",
       "18. 0\n",
       "19. 0\n",
       "20. 0\n",
       "21. 0\n",
       "22. 0\n",
       "23. 0\n",
       "24. 1\n",
       "25. 1\n",
       "26. 0\n",
       "27. 1\n",
       "28. 0\n",
       "29. 1\n",
       "30. 0\n",
       "31. 0\n",
       "32. 1\n",
       "33. 0\n",
       "34. 1\n",
       "35. 0\n",
       "36. 1\n",
       "37. 0\n",
       "38. 0\n",
       "39. 1\n",
       "40. 1\n",
       "41. 0\n",
       "42. 0\n",
       "43. 1\n",
       "44. 1\n",
       "45. 0\n",
       "46. 0\n",
       "47. 1\n",
       "48. 0\n",
       "49. 0\n",
       "50. 0\n",
       "51. 1\n",
       "52. 0\n",
       "53. 0\n",
       "54. 0\n",
       "55. 0\n",
       "56. 1\n",
       "57. 1\n",
       "58. 0\n",
       "59. 1\n",
       "\n",
       "\n",
       "\n",
       "**Levels**: 1. '0'\n",
       "2. '1'\n",
       "\n",
       "\n"
      ],
      "text/plain": [
       " [1] 0 0 0 1 1 1 1 1 0 0 0 0 0 1 1 0 1 0 0 0 0 0 0 1 1 0 1 0 1 0 0 1 0 1 0 1 0 0\n",
       "[39] 1 1 0 0 1 1 0 0 1 0 0 0 1 0 0 0 0 1 1 0 1\n",
       "Levels: 0 1"
      ]
     },
     "metadata": {},
     "output_type": "display_data"
    },
    {
     "data": {
      "text/plain": [
       "Confusion Matrix and Statistics\n",
       "\n",
       "          Reference\n",
       "Prediction  0  1\n",
       "         0 33  2\n",
       "         1  4 20\n",
       "                                          \n",
       "               Accuracy : 0.8983          \n",
       "                 95% CI : (0.7917, 0.9618)\n",
       "    No Information Rate : 0.6271          \n",
       "    P-Value [Acc > NIR] : 2.684e-06       \n",
       "                                          \n",
       "                  Kappa : 0.7865          \n",
       "                                          \n",
       " Mcnemar's Test P-Value : 0.6831          \n",
       "                                          \n",
       "            Sensitivity : 0.8919          \n",
       "            Specificity : 0.9091          \n",
       "         Pos Pred Value : 0.9429          \n",
       "         Neg Pred Value : 0.8333          \n",
       "             Prevalence : 0.6271          \n",
       "         Detection Rate : 0.5593          \n",
       "   Detection Prevalence : 0.5932          \n",
       "      Balanced Accuracy : 0.9005          \n",
       "                                          \n",
       "       'Positive' Class : 0               \n",
       "                                          "
      ]
     },
     "metadata": {},
     "output_type": "display_data"
    }
   ],
   "source": [
    "predict.nn_52 <- as.factor(predict.nn_52)\n",
    "predict.nn_52\n",
    "vali_cbind$condition1 <- as.factor(vali_cbind$condition1)\n",
    "confusionMatrix(predict.nn_52, vali_cbind$condition1)"
   ]
  },
  {
   "cell_type": "code",
   "execution_count": 100,
   "id": "d3d98240-6d60-4065-96af-bccff729f6d7",
   "metadata": {},
   "outputs": [
    {
     "data": {
      "text/html": [
       "0.101694915254237"
      ],
      "text/latex": [
       "0.101694915254237"
      ],
      "text/markdown": [
       "0.101694915254237"
      ],
      "text/plain": [
       "[1] 0.1016949"
      ]
     },
     "metadata": {},
     "output_type": "display_data"
    }
   ],
   "source": [
    "mean((as.numeric(vali_cbind$condition1) - as.numeric(predict.nn_52))^2)"
   ]
  },
  {
   "cell_type": "code",
   "execution_count": 101,
   "id": "c1935dc8-dac2-433b-a037-a376e13e66b7",
   "metadata": {},
   "outputs": [
    {
     "data": {
      "image/png": "[encoded data removed]",
      "text/plain": [
       "plot without title"
      ]
     },
     "metadata": {
      "image/png": {
       "height": 420,
       "width": 420
      }
     },
     "output_type": "display_data"
    }
   ],
   "source": [
    "plot(fit.nn.52, \n",
    "     rep=\"best\")"
   ]
  },
  {
   "cell_type": "code",
   "execution_count": 105,
   "id": "545d1147-c7fb-4336-b54d-72de34dc3a0a",
   "metadata": {},
   "outputs": [
    {
     "name": "stderr",
     "output_type": "stream",
     "text": [
      "Setting levels: control = 1, case = 2\n",
      "\n",
      "Setting direction: controls < cases\n",
      "\n"
     ]
    },
    {
     "data": {
      "image/png": "[encoded data removed]",
      "text/plain": [
       "plot without title"
      ]
     },
     "metadata": {
      "image/png": {
       "height": 420,
       "width": 420
      }
     },
     "output_type": "display_data"
    }
   ],
   "source": [
    "ROC_nn <- roc(as.numeric(vali_cbind$condition1), as.numeric(predict.nn_52))\n",
    "plot(ROC_nn)"
   ]
  }
 ],
 "metadata": {
  "kernelspec": {
   "display_name": "R",
   "language": "R",
   "name": "ir"
  },
  "language_info": {
   "codemirror_mode": "r",
   "file_extension": ".r",
   "mimetype": "text/x-r-source",
   "name": "R",
   "pygments_lexer": "r",
   "version": "4.1.2"
  }
 },
 "nbformat": 4,
 "nbformat_minor": 5
}
